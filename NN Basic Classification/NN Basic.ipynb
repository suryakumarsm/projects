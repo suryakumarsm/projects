{
  "cells": [
    {
      "cell_type": "markdown",
      "metadata": {
        "id": "7por6hHzcgTW"
      },
      "source": [
        "# Neural Network Basic Classification Problem \n",
        "Here the following steps gives a broad overview of data source, getting the data and customizing for Neural Network Classification problem. Then a brief steps about creating a classification model.  \n",
        "1. Read the data dictionary and description from here:\n",
        "\n",
        "    * https://oehha.ca.gov/media/downloads/calenviroscreen/document/calenviroscreen40resultsdatadictionaryf2021.zip\n",
        "\n",
        "    Download the data using gdown, read the Excel file using pandas, print the first 10 rows using df.head() and use df.info() to examine the data types and missing values.\n",
        "\n",
        "2. Simplify the raw dataframe so that you only keep the columns you need. The `X` variable will be the following columns: `Population`, `Ozone` through `Solid Waste Pctl`, and `Asthma` through `Linguistic Isolation Pctl`. The `y` variable will be `Poverty`. \n",
        "\n",
        "3. As this is a classification problem lets recode the target variable to a 1 if greater than the mean value of poverty, otherwise make it a 0. \n",
        "\n",
        "4. Make two interesting plots or tables and a description for EDA.\n",
        "\n",
        "5. Do an 90/10 split for X_train, X_test, y_train, y_test.\n",
        "\n",
        "6. Use the StandardScaler() on train and apply to test partition. Lets be mindful of not have data leakage. That is we will only fit the transform on train and just to transform on test data. Do not scale the target variable!\n",
        "\n",
        "7. Build a model using the Sequential API with dense layers and with the relu activation function, and with dropout in between each dense layer (use a number between 0.1 and 0.5). Compile the model using an appropriate optimizer. Use early stopping with patience of at least 10 and restore the best weights once the model converges. The batch size could be anything. \n",
        "\n",
        "8. Fit the model for 100000 epochs with a batch size of your choice, using X_test and y_test as the validation data. **We will also use  early stopping callback!**\n",
        "\n",
        "9. Evaluate the model using learning curves, error metrics and confusion matrices for each partition.\n",
        "\n",
        "10. Calculate what a baseline prediction would be for the train and test partitions (a mean only model). Did the model do better than the baseline predictions? If so, then we have a useful model!"
      ]
    },
    {
      "cell_type": "markdown",
      "metadata": {
        "id": "RSBDw0iEErUJ"
      },
      "source": [
        "## Reading Data and Importing Modules\n"
      ]
    },
    {
      "cell_type": "markdown",
      "metadata": {},
      "source": [
        "### Importing Modules"
      ]
    },
    {
      "cell_type": "code",
      "execution_count": 9,
      "metadata": {
        "id": "gFcKcj142-Yw"
      },
      "outputs": [
        {
          "name": "stderr",
          "output_type": "stream",
          "text": [
            "c:\\Users\\surya\\anaconda3\\lib\\site-packages\\scipy\\__init__.py:146: UserWarning: A NumPy version >=1.16.5 and <1.23.0 is required for this version of SciPy (detected version 1.26.2\n",
            "  warnings.warn(f\"A NumPy version >={np_minversion} and <{np_maxversion}\"\n"
          ]
        },
        {
          "name": "stdout",
          "output_type": "stream",
          "text": [
            "WARNING:tensorflow:From c:\\Users\\surya\\anaconda3\\lib\\site-packages\\keras\\src\\losses.py:2976: The name tf.losses.sparse_softmax_cross_entropy is deprecated. Please use tf.compat.v1.losses.sparse_softmax_cross_entropy instead.\n",
            "\n"
          ]
        }
      ],
      "source": [
        "# import modules\n",
        "# for general data analysis/plotting\n",
        "import pandas as pd\n",
        "import matplotlib.pyplot as plt\n",
        "import numpy as np\n",
        "import seaborn as sns\n",
        "import requests # for downloading the data \n",
        "import os # for making changes in the system wrt making any directories etc\n",
        "\n",
        "# for data prep\n",
        "from sklearn.model_selection import train_test_split\n",
        "from sklearn.preprocessing import StandardScaler\n",
        "\n",
        "#report\n",
        "from sklearn.metrics import confusion_matrix\n",
        "from sklearn.metrics import classification_report\n",
        "\n",
        "# neural net modules\n",
        "from keras.models import Sequential\n",
        "from keras.layers import Dense, Dropout\n",
        "from keras.callbacks import EarlyStopping"
      ]
    },
    {
      "cell_type": "markdown",
      "metadata": {},
      "source": [
        "### Download the Data "
      ]
    },
    {
      "cell_type": "code",
      "execution_count": 3,
      "metadata": {},
      "outputs": [],
      "source": [
        "\n",
        "# File ID and URL\n",
        "file_id = '1_8vmQwSZ02ZOMw_IPHY5OWkwpXQLVW2E'\n",
        "url = f'https://drive.google.com/uc?id={file_id}'\n",
        "\n",
        "# Download the file\n",
        "response = requests.get(url)\n",
        "\n",
        "# Specify the folder name\n",
        "folder_name = 'Data'\n",
        "\n",
        "# Create the folder if it doesn't exist\n",
        "if not os.path.exists(folder_name):\n",
        "    os.makedirs(folder_name)\n",
        "# Save the content to a local file\n",
        "with open('Data/CalEnviroScreen.xlsx', 'wb') as f:\n",
        "    f.write(response.content)\n",
        "\n",
        "# Read the Excel file into a DataFrame\n",
        "df_CalEnviroScreen = pd.read_excel(r'Data/CalEnviroScreen.xlsx')\n"
      ]
    },
    {
      "cell_type": "markdown",
      "metadata": {},
      "source": [
        "### Reading the Data"
      ]
    },
    {
      "cell_type": "code",
      "execution_count": 5,
      "metadata": {
        "colab": {
          "base_uri": "https://localhost:8080/"
        },
        "id": "6STrxO8F3J1r",
        "outputId": "e9e088bf-be0b-4c42-a500-a7ee0cad6142"
      },
      "outputs": [
        {
          "name": "stdout",
          "output_type": "stream",
          "text": [
            "<class 'pandas.core.frame.DataFrame'>\n",
            "RangeIndex: 8035 entries, 0 to 8034\n",
            "Data columns (total 57 columns):\n",
            " #   Column                                            Non-Null Count  Dtype  \n",
            "---  ------                                            --------------  -----  \n",
            " 0   Census Tract                                      8035 non-null   int64  \n",
            " 1   Total Population                                  8035 non-null   int64  \n",
            " 2   California County                                 8035 non-null   object \n",
            " 3   ZIP                                               8035 non-null   int64  \n",
            " 4   Nearby City \n",
            "(to help approximate location only)  8035 non-null   object \n",
            " 5   Longitude                                         8035 non-null   float64\n",
            " 6   Latitude                                          8035 non-null   float64\n",
            " 7   CES 3.0 Score                                     7929 non-null   float64\n",
            " 8    CES 3.0 Percentile                               7929 non-null   float64\n",
            " 9   CES 3.0 \n",
            "Percentile Range                         7929 non-null   object \n",
            " 10  SB 535 Disadvantaged Community                    8035 non-null   object \n",
            " 11  Ozone                                             8035 non-null   float64\n",
            " 12  Ozone Pctl                                        8035 non-null   float64\n",
            " 13  PM2.5                                             8016 non-null   float64\n",
            " 14  PM2.5 Pctl                                        8016 non-null   float64\n",
            " 15  Diesel PM                                         8035 non-null   float64\n",
            " 16  Diesel PM Pctl                                    8035 non-null   float64\n",
            " 17  Drinking Water                                    8017 non-null   float64\n",
            " 18  Drinking Water Pctl                               8017 non-null   float64\n",
            " 19  Pesticides                                        8035 non-null   float64\n",
            " 20  Pesticides Pctl                                   8035 non-null   float64\n",
            " 21  Tox. Release                                      8035 non-null   float64\n",
            " 22  Tox. Release Pctl                                 8035 non-null   float64\n",
            " 23  Traffic                                           7979 non-null   float64\n",
            " 24  Traffic Pctl                                      7979 non-null   float64\n",
            " 25  Cleanup Sites                                     8035 non-null   float64\n",
            " 26  Cleanup Sites Pctl                                8035 non-null   float64\n",
            " 27  Groundwater Threats                               8035 non-null   float64\n",
            " 28  Groundwater Threats Pctl                          8035 non-null   float64\n",
            " 29  Haz. Waste                                        8035 non-null   float64\n",
            " 30  Haz. Waste Pctl                                   8035 non-null   float64\n",
            " 31  Imp. Water Bodies                                 8035 non-null   int64  \n",
            " 32  Imp. Water Bodies Pctl                            8035 non-null   float64\n",
            " 33  Solid Waste                                       8035 non-null   float64\n",
            " 34  Solid Waste Pctl                                  8035 non-null   float64\n",
            " 35  Pollution Burden                                  8035 non-null   float64\n",
            " 36  Pollution Burden Score                            8035 non-null   float64\n",
            " 37  Pollution Burden Pctl                             8035 non-null   float64\n",
            " 38  Asthma                                            8035 non-null   float64\n",
            " 39  Asthma Pctl                                       8035 non-null   float64\n",
            " 40  Low Birth Weight                                  7813 non-null   float64\n",
            " 41  Low Birth Weight Pctl                             7813 non-null   float64\n",
            " 42  Cardiovascular Disease                            8035 non-null   float64\n",
            " 43  Cardiovascular Disease Pctl                       8035 non-null   float64\n",
            " 44  Education                                         7939 non-null   float64\n",
            " 45  Education Pctl                                    7939 non-null   float64\n",
            " 46  Linguistic Isolation                              7793 non-null   float64\n",
            " 47  Linguistic Isolation Pctl                         7793 non-null   float64\n",
            " 48  Poverty                                           7956 non-null   float64\n",
            " 49  Poverty Pctl                                      7956 non-null   float64\n",
            " 50  Unemployment                                      7880 non-null   float64\n",
            " 51  Unemployment Pctl                                 7880 non-null   float64\n",
            " 52  Housing Burden                                    7878 non-null   float64\n",
            " 53  Housing Burden Pctl                               7878 non-null   float64\n",
            " 54  Pop. Char.                                        7929 non-null   float64\n",
            " 55  Pop. Char. Score                                  7929 non-null   float64\n",
            " 56  Pop. Char. Pctl                                   7929 non-null   float64\n",
            "dtypes: float64(49), int64(4), object(4)\n",
            "memory usage: 3.5+ MB\n"
          ]
        }
      ],
      "source": [
        "# read data\n",
        "df = df_CalEnviroScreen\n",
        "df.info()"
      ]
    },
    {
      "cell_type": "markdown",
      "metadata": {
        "id": "rTanfsMdR0ys"
      },
      "source": [
        "Printing First 5 Records"
      ]
    },
    {
      "cell_type": "code",
      "execution_count": 7,
      "metadata": {
        "colab": {
          "base_uri": "https://localhost:8080/",
          "height": 829
        },
        "id": "TShE_lFBR0FN",
        "outputId": "e40ee669-b5c9-4958-d0fa-857155afa37e"
      },
      "outputs": [
        {
          "data": {
            "text/html": [
              "<div>\n",
              "<style scoped>\n",
              "    .dataframe tbody tr th:only-of-type {\n",
              "        vertical-align: middle;\n",
              "    }\n",
              "\n",
              "    .dataframe tbody tr th {\n",
              "        vertical-align: top;\n",
              "    }\n",
              "\n",
              "    .dataframe thead th {\n",
              "        text-align: right;\n",
              "    }\n",
              "</style>\n",
              "<table border=\"1\" class=\"dataframe\">\n",
              "  <thead>\n",
              "    <tr style=\"text-align: right;\">\n",
              "      <th></th>\n",
              "      <th>Census Tract</th>\n",
              "      <th>Total Population</th>\n",
              "      <th>California County</th>\n",
              "      <th>ZIP</th>\n",
              "      <th>Nearby City \\n(to help approximate location only)</th>\n",
              "      <th>Longitude</th>\n",
              "      <th>Latitude</th>\n",
              "      <th>CES 3.0 Score</th>\n",
              "      <th>CES 3.0 Percentile</th>\n",
              "      <th>CES 3.0 \\nPercentile Range</th>\n",
              "      <th>...</th>\n",
              "      <th>Linguistic Isolation Pctl</th>\n",
              "      <th>Poverty</th>\n",
              "      <th>Poverty Pctl</th>\n",
              "      <th>Unemployment</th>\n",
              "      <th>Unemployment Pctl</th>\n",
              "      <th>Housing Burden</th>\n",
              "      <th>Housing Burden Pctl</th>\n",
              "      <th>Pop. Char.</th>\n",
              "      <th>Pop. Char. Score</th>\n",
              "      <th>Pop. Char. Pctl</th>\n",
              "    </tr>\n",
              "  </thead>\n",
              "  <tbody>\n",
              "    <tr>\n",
              "      <th>0</th>\n",
              "      <td>6019001100</td>\n",
              "      <td>3174</td>\n",
              "      <td>Fresno</td>\n",
              "      <td>93706</td>\n",
              "      <td>Fresno</td>\n",
              "      <td>-119.781696</td>\n",
              "      <td>36.709695</td>\n",
              "      <td>94.090246</td>\n",
              "      <td>100.000000</td>\n",
              "      <td>95-100% (highest scores)</td>\n",
              "      <td>...</td>\n",
              "      <td>77.509665</td>\n",
              "      <td>76.3</td>\n",
              "      <td>97.121307</td>\n",
              "      <td>17.6</td>\n",
              "      <td>91.724838</td>\n",
              "      <td>26.0</td>\n",
              "      <td>79.398324</td>\n",
              "      <td>92.120494</td>\n",
              "      <td>9.553509</td>\n",
              "      <td>99.697314</td>\n",
              "    </tr>\n",
              "    <tr>\n",
              "      <th>1</th>\n",
              "      <td>6071001600</td>\n",
              "      <td>6133</td>\n",
              "      <td>San Bernardino</td>\n",
              "      <td>91761</td>\n",
              "      <td>Ontario</td>\n",
              "      <td>-117.618013</td>\n",
              "      <td>34.057780</td>\n",
              "      <td>90.677839</td>\n",
              "      <td>99.987388</td>\n",
              "      <td>95-100% (highest scores)</td>\n",
              "      <td>...</td>\n",
              "      <td>96.253833</td>\n",
              "      <td>72.5</td>\n",
              "      <td>94.632307</td>\n",
              "      <td>12.3</td>\n",
              "      <td>71.823836</td>\n",
              "      <td>34.1</td>\n",
              "      <td>93.754760</td>\n",
              "      <td>87.436849</td>\n",
              "      <td>9.067784</td>\n",
              "      <td>98.108210</td>\n",
              "    </tr>\n",
              "    <tr>\n",
              "      <th>2</th>\n",
              "      <td>6019000200</td>\n",
              "      <td>3167</td>\n",
              "      <td>Fresno</td>\n",
              "      <td>93706</td>\n",
              "      <td>Fresno</td>\n",
              "      <td>-119.805504</td>\n",
              "      <td>36.735491</td>\n",
              "      <td>85.970036</td>\n",
              "      <td>99.974776</td>\n",
              "      <td>95-100% (highest scores)</td>\n",
              "      <td>...</td>\n",
              "      <td>78.389548</td>\n",
              "      <td>86.8</td>\n",
              "      <td>99.560025</td>\n",
              "      <td>16.1</td>\n",
              "      <td>87.980708</td>\n",
              "      <td>40.1</td>\n",
              "      <td>97.854785</td>\n",
              "      <td>94.581328</td>\n",
              "      <td>9.808714</td>\n",
              "      <td>99.987388</td>\n",
              "    </tr>\n",
              "    <tr>\n",
              "      <th>3</th>\n",
              "      <td>6077000801</td>\n",
              "      <td>6692</td>\n",
              "      <td>San Joaquin</td>\n",
              "      <td>95203</td>\n",
              "      <td>Stockton</td>\n",
              "      <td>-121.314524</td>\n",
              "      <td>37.940517</td>\n",
              "      <td>82.491521</td>\n",
              "      <td>99.962164</td>\n",
              "      <td>95-100% (highest scores)</td>\n",
              "      <td>...</td>\n",
              "      <td>75.136648</td>\n",
              "      <td>61.3</td>\n",
              "      <td>85.568825</td>\n",
              "      <td>19.6</td>\n",
              "      <td>94.973981</td>\n",
              "      <td>21.1</td>\n",
              "      <td>63.544047</td>\n",
              "      <td>86.701266</td>\n",
              "      <td>8.991499</td>\n",
              "      <td>97.717241</td>\n",
              "    </tr>\n",
              "    <tr>\n",
              "      <th>4</th>\n",
              "      <td>6019001500</td>\n",
              "      <td>2206</td>\n",
              "      <td>Fresno</td>\n",
              "      <td>93725</td>\n",
              "      <td>Fresno</td>\n",
              "      <td>-119.717843</td>\n",
              "      <td>36.681600</td>\n",
              "      <td>82.030814</td>\n",
              "      <td>99.949552</td>\n",
              "      <td>95-100% (highest scores)</td>\n",
              "      <td>...</td>\n",
              "      <td>73.723504</td>\n",
              "      <td>66.4</td>\n",
              "      <td>90.232558</td>\n",
              "      <td>18.6</td>\n",
              "      <td>93.654017</td>\n",
              "      <td>28.1</td>\n",
              "      <td>83.980706</td>\n",
              "      <td>80.075199</td>\n",
              "      <td>8.304332</td>\n",
              "      <td>92.760752</td>\n",
              "    </tr>\n",
              "  </tbody>\n",
              "</table>\n",
              "<p>5 rows × 57 columns</p>\n",
              "</div>"
            ],
            "text/plain": [
              "   Census Tract  Total Population California County    ZIP  \\\n",
              "0    6019001100              3174           Fresno   93706   \n",
              "1    6071001600              6133    San Bernardino  91761   \n",
              "2    6019000200              3167           Fresno   93706   \n",
              "3    6077000801              6692       San Joaquin  95203   \n",
              "4    6019001500              2206           Fresno   93725   \n",
              "\n",
              "  Nearby City \\n(to help approximate location only)   Longitude   Latitude  \\\n",
              "0                                            Fresno -119.781696  36.709695   \n",
              "1                                           Ontario -117.618013  34.057780   \n",
              "2                                            Fresno -119.805504  36.735491   \n",
              "3                                          Stockton -121.314524  37.940517   \n",
              "4                                            Fresno -119.717843  36.681600   \n",
              "\n",
              "   CES 3.0 Score   CES 3.0 Percentile CES 3.0 \\nPercentile Range  ...  \\\n",
              "0      94.090246           100.000000   95-100% (highest scores)  ...   \n",
              "1      90.677839            99.987388   95-100% (highest scores)  ...   \n",
              "2      85.970036            99.974776   95-100% (highest scores)  ...   \n",
              "3      82.491521            99.962164   95-100% (highest scores)  ...   \n",
              "4      82.030814            99.949552   95-100% (highest scores)  ...   \n",
              "\n",
              "  Linguistic Isolation Pctl  Poverty  Poverty Pctl  Unemployment  \\\n",
              "0                 77.509665     76.3     97.121307          17.6   \n",
              "1                 96.253833     72.5     94.632307          12.3   \n",
              "2                 78.389548     86.8     99.560025          16.1   \n",
              "3                 75.136648     61.3     85.568825          19.6   \n",
              "4                 73.723504     66.4     90.232558          18.6   \n",
              "\n",
              "   Unemployment Pctl  Housing Burden  Housing Burden Pctl  Pop. Char.   \\\n",
              "0          91.724838            26.0            79.398324    92.120494   \n",
              "1          71.823836            34.1            93.754760    87.436849   \n",
              "2          87.980708            40.1            97.854785    94.581328   \n",
              "3          94.973981            21.1            63.544047    86.701266   \n",
              "4          93.654017            28.1            83.980706    80.075199   \n",
              "\n",
              "   Pop. Char. Score  Pop. Char. Pctl  \n",
              "0          9.553509        99.697314  \n",
              "1          9.067784        98.108210  \n",
              "2          9.808714        99.987388  \n",
              "3          8.991499        97.717241  \n",
              "4          8.304332        92.760752  \n",
              "\n",
              "[5 rows x 57 columns]"
            ]
          },
          "execution_count": 7,
          "metadata": {},
          "output_type": "execute_result"
        }
      ],
      "source": [
        "df.head(5)"
      ]
    },
    {
      "cell_type": "markdown",
      "metadata": {},
      "source": [
        "## EDA"
      ]
    },
    {
      "cell_type": "markdown",
      "metadata": {},
      "source": [
        "### Missing Values\n",
        "Missing values across all the columns"
      ]
    },
    {
      "cell_type": "code",
      "execution_count": 10,
      "metadata": {
        "colab": {
          "base_uri": "https://localhost:8080/"
        },
        "id": "54dSsYPSSUat",
        "outputId": "eb4d6934-96e6-466b-b282-20ba5c7a7db8"
      },
      "outputs": [
        {
          "data": {
            "text/plain": [
              "Census Tract                                           0\n",
              "Total Population                                       0\n",
              "California County                                      0\n",
              "ZIP                                                    0\n",
              "Nearby City \\n(to help approximate location only)      0\n",
              "Longitude                                              0\n",
              "Latitude                                               0\n",
              "CES 3.0 Score                                        106\n",
              " CES 3.0 Percentile                                  106\n",
              "CES 3.0 \\nPercentile Range                           106\n",
              "SB 535 Disadvantaged Community                         0\n",
              "Ozone                                                  0\n",
              "Ozone Pctl                                             0\n",
              "PM2.5                                                 19\n",
              "PM2.5 Pctl                                            19\n",
              "Diesel PM                                              0\n",
              "Diesel PM Pctl                                         0\n",
              "Drinking Water                                        18\n",
              "Drinking Water Pctl                                   18\n",
              "Pesticides                                             0\n",
              "Pesticides Pctl                                        0\n",
              "Tox. Release                                           0\n",
              "Tox. Release Pctl                                      0\n",
              "Traffic                                               56\n",
              "Traffic Pctl                                          56\n",
              "Cleanup Sites                                          0\n",
              "Cleanup Sites Pctl                                     0\n",
              "Groundwater Threats                                    0\n",
              "Groundwater Threats Pctl                               0\n",
              "Haz. Waste                                             0\n",
              "Haz. Waste Pctl                                        0\n",
              "Imp. Water Bodies                                      0\n",
              "Imp. Water Bodies Pctl                                 0\n",
              "Solid Waste                                            0\n",
              "Solid Waste Pctl                                       0\n",
              "Pollution Burden                                       0\n",
              "Pollution Burden Score                                 0\n",
              "Pollution Burden Pctl                                  0\n",
              "Asthma                                                 0\n",
              "Asthma Pctl                                            0\n",
              "Low Birth Weight                                     222\n",
              "Low Birth Weight Pctl                                222\n",
              "Cardiovascular Disease                                 0\n",
              "Cardiovascular Disease Pctl                            0\n",
              "Education                                             96\n",
              "Education Pctl                                        96\n",
              "Linguistic Isolation                                 242\n",
              "Linguistic Isolation Pctl                            242\n",
              "Poverty                                               79\n",
              "Poverty Pctl                                          79\n",
              "Unemployment                                         155\n",
              "Unemployment Pctl                                    155\n",
              "Housing Burden                                       157\n",
              "Housing Burden Pctl                                  157\n",
              "Pop. Char.                                           106\n",
              "Pop. Char. Score                                     106\n",
              "Pop. Char. Pctl                                      106\n",
              "dtype: int64"
            ]
          },
          "execution_count": 10,
          "metadata": {},
          "output_type": "execute_result"
        }
      ],
      "source": [
        "df.isnull().sum()"
      ]
    },
    {
      "cell_type": "code",
      "execution_count": 11,
      "metadata": {
        "colab": {
          "base_uri": "https://localhost:8080/"
        },
        "id": "AQBxBryvShiN",
        "outputId": "d8f7124e-f3af-48f3-d42e-4b61e96451b8"
      },
      "outputs": [
        {
          "data": {
            "text/plain": [
              "2724"
            ]
          },
          "execution_count": 11,
          "metadata": {},
          "output_type": "execute_result"
        }
      ],
      "source": [
        "df.isnull().sum().sum() # total records with at least one missing value"
      ]
    },
    {
      "cell_type": "markdown",
      "metadata": {
        "id": "qpL0jio0Skzc"
      },
      "source": [
        "Total missing records with atleast one missing value are 2724"
      ]
    },
    {
      "cell_type": "markdown",
      "metadata": {
        "id": "AbTQazbPS7as"
      },
      "source": [
        "### Subsetting and Column info\n",
        "Lets simplify the raw dataframe so that we only keep the columns that are rewuired for analysis. The `X` variable will be the following columns: `Population`, `Ozone` through `Solid Waste Pctl`, and `Asthma` through `Linguistic Isolation Pctl`. The `y` variable will be `Poverty`."
      ]
    },
    {
      "cell_type": "code",
      "execution_count": 12,
      "metadata": {
        "colab": {
          "base_uri": "https://localhost:8080/"
        },
        "id": "CMHP6DkgUOQP",
        "outputId": "20d954d7-c86c-483e-8baf-e53565d5a4ac"
      },
      "outputs": [
        {
          "name": "stdout",
          "output_type": "stream",
          "text": [
            "Column Names:                                                     0\n",
            "0                                        Census Tract\n",
            "1                                    Total Population\n",
            "2                                   California County\n",
            "3                                                 ZIP\n",
            "4   Nearby City \\n(to help approximate location only)\n",
            "5                                           Longitude\n",
            "6                                            Latitude\n",
            "7                                       CES 3.0 Score\n",
            "8                                  CES 3.0 Percentile\n",
            "9                          CES 3.0 \\nPercentile Range\n",
            "10                     SB 535 Disadvantaged Community\n",
            "11                                              Ozone\n",
            "12                                         Ozone Pctl\n",
            "13                                              PM2.5\n",
            "14                                         PM2.5 Pctl\n",
            "15                                          Diesel PM\n",
            "16                                     Diesel PM Pctl\n",
            "17                                     Drinking Water\n",
            "18                                Drinking Water Pctl\n",
            "19                                         Pesticides\n",
            "20                                    Pesticides Pctl\n",
            "21                                       Tox. Release\n",
            "22                                  Tox. Release Pctl\n",
            "23                                            Traffic\n",
            "24                                       Traffic Pctl\n",
            "25                                      Cleanup Sites\n",
            "26                                 Cleanup Sites Pctl\n",
            "27                                Groundwater Threats\n",
            "28                           Groundwater Threats Pctl\n",
            "29                                         Haz. Waste\n",
            "30                                    Haz. Waste Pctl\n",
            "31                                  Imp. Water Bodies\n",
            "32                             Imp. Water Bodies Pctl\n",
            "33                                        Solid Waste\n",
            "34                                   Solid Waste Pctl\n",
            "35                                   Pollution Burden\n",
            "36                             Pollution Burden Score\n",
            "37                              Pollution Burden Pctl\n",
            "38                                             Asthma\n",
            "39                                        Asthma Pctl\n",
            "40                                   Low Birth Weight\n",
            "41                              Low Birth Weight Pctl\n",
            "42                             Cardiovascular Disease\n",
            "43                        Cardiovascular Disease Pctl\n",
            "44                                          Education\n",
            "45                                     Education Pctl\n",
            "46                               Linguistic Isolation\n",
            "47                          Linguistic Isolation Pctl\n",
            "48                                            Poverty\n",
            "49                                       Poverty Pctl\n",
            "50                                       Unemployment\n",
            "51                                  Unemployment Pctl\n",
            "52                                     Housing Burden\n",
            "53                                Housing Burden Pctl\n",
            "54                                        Pop. Char. \n",
            "55                                   Pop. Char. Score\n",
            "56                                    Pop. Char. Pctl\n"
          ]
        }
      ],
      "source": [
        "#Getting columns names index\n",
        "column_name=df.columns\n",
        "print('Column Names:', pd.DataFrame(column_name))"
      ]
    },
    {
      "cell_type": "markdown",
      "metadata": {
        "id": "YP472a7g3sHS"
      },
      "source": [
        "#### X and y dataset subsetting"
      ]
    },
    {
      "cell_type": "code",
      "execution_count": 13,
      "metadata": {
        "id": "8KJtHHYZUcIP"
      },
      "outputs": [],
      "source": [
        "df1=df[df.columns[[1] + list(range(11, 35)) + [7]+ list(range(38,48))+[48]]] #Getting the required columns\n",
        "\n",
        "#subsetting the X from the df\n",
        "X=df1.drop('Poverty',axis=1)\n",
        "\n",
        "#Separating and Creating a y variable\n",
        "y=df1['Poverty']\n",
        "\n"
      ]
    },
    {
      "cell_type": "markdown",
      "metadata": {},
      "source": [
        "Lets review if all desired columns have been subset in `X`"
      ]
    },
    {
      "cell_type": "code",
      "execution_count": 14,
      "metadata": {
        "colab": {
          "base_uri": "https://localhost:8080/"
        },
        "id": "5imlRKwx9fea",
        "outputId": "2667c64c-865b-4132-b36f-add7c56e0130"
      },
      "outputs": [
        {
          "data": {
            "text/plain": [
              "Index(['Total Population', 'Ozone', 'Ozone Pctl', 'PM2.5', 'PM2.5 Pctl',\n",
              "       'Diesel PM', 'Diesel PM Pctl', 'Drinking Water', 'Drinking Water Pctl',\n",
              "       'Pesticides', 'Pesticides Pctl', 'Tox. Release', 'Tox. Release Pctl',\n",
              "       'Traffic', 'Traffic Pctl', 'Cleanup Sites', 'Cleanup Sites Pctl',\n",
              "       'Groundwater Threats', 'Groundwater Threats Pctl', 'Haz. Waste',\n",
              "       'Haz. Waste Pctl', 'Imp. Water Bodies', 'Imp. Water Bodies Pctl',\n",
              "       'Solid Waste', 'Solid Waste Pctl', 'CES 3.0 Score', 'Asthma',\n",
              "       'Asthma Pctl', 'Low Birth Weight', 'Low Birth Weight Pctl',\n",
              "       'Cardiovascular Disease', 'Cardiovascular Disease Pctl', 'Education',\n",
              "       'Education Pctl', 'Linguistic Isolation', 'Linguistic Isolation Pctl'],\n",
              "      dtype='object')"
            ]
          },
          "execution_count": 14,
          "metadata": {},
          "output_type": "execute_result"
        }
      ],
      "source": [
        "X.columns"
      ]
    },
    {
      "cell_type": "markdown",
      "metadata": {},
      "source": [
        "Lets see summary statistics of the `X` Variables\n"
      ]
    },
    {
      "cell_type": "code",
      "execution_count": 15,
      "metadata": {
        "colab": {
          "base_uri": "https://localhost:8080/",
          "height": 384
        },
        "id": "kfKSXEwQ4gmy",
        "outputId": "a762d2d2-a12b-4f3a-f068-c940707038f1"
      },
      "outputs": [
        {
          "data": {
            "text/html": [
              "<div>\n",
              "<style scoped>\n",
              "    .dataframe tbody tr th:only-of-type {\n",
              "        vertical-align: middle;\n",
              "    }\n",
              "\n",
              "    .dataframe tbody tr th {\n",
              "        vertical-align: top;\n",
              "    }\n",
              "\n",
              "    .dataframe thead th {\n",
              "        text-align: right;\n",
              "    }\n",
              "</style>\n",
              "<table border=\"1\" class=\"dataframe\">\n",
              "  <thead>\n",
              "    <tr style=\"text-align: right;\">\n",
              "      <th></th>\n",
              "      <th>Total Population</th>\n",
              "      <th>Ozone</th>\n",
              "      <th>Ozone Pctl</th>\n",
              "      <th>PM2.5</th>\n",
              "      <th>PM2.5 Pctl</th>\n",
              "      <th>Diesel PM</th>\n",
              "      <th>Diesel PM Pctl</th>\n",
              "      <th>Drinking Water</th>\n",
              "      <th>Drinking Water Pctl</th>\n",
              "      <th>Pesticides</th>\n",
              "      <th>...</th>\n",
              "      <th>Asthma</th>\n",
              "      <th>Asthma Pctl</th>\n",
              "      <th>Low Birth Weight</th>\n",
              "      <th>Low Birth Weight Pctl</th>\n",
              "      <th>Cardiovascular Disease</th>\n",
              "      <th>Cardiovascular Disease Pctl</th>\n",
              "      <th>Education</th>\n",
              "      <th>Education Pctl</th>\n",
              "      <th>Linguistic Isolation</th>\n",
              "      <th>Linguistic Isolation Pctl</th>\n",
              "    </tr>\n",
              "  </thead>\n",
              "  <tbody>\n",
              "    <tr>\n",
              "      <th>count</th>\n",
              "      <td>8035.000000</td>\n",
              "      <td>8035.000000</td>\n",
              "      <td>8035.000000</td>\n",
              "      <td>8016.000000</td>\n",
              "      <td>8016.000000</td>\n",
              "      <td>8035.000000</td>\n",
              "      <td>8035.000000</td>\n",
              "      <td>8017.000000</td>\n",
              "      <td>8017.000000</td>\n",
              "      <td>8035.000000</td>\n",
              "      <td>...</td>\n",
              "      <td>8035.000000</td>\n",
              "      <td>8035.000000</td>\n",
              "      <td>7813.000000</td>\n",
              "      <td>7813.000000</td>\n",
              "      <td>8035.000000</td>\n",
              "      <td>8035.000000</td>\n",
              "      <td>7939.000000</td>\n",
              "      <td>7939.000000</td>\n",
              "      <td>7793.000000</td>\n",
              "      <td>7793.000000</td>\n",
              "    </tr>\n",
              "    <tr>\n",
              "      <th>mean</th>\n",
              "      <td>4636.459988</td>\n",
              "      <td>0.047454</td>\n",
              "      <td>53.298961</td>\n",
              "      <td>10.377904</td>\n",
              "      <td>53.594976</td>\n",
              "      <td>19.196066</td>\n",
              "      <td>50.020674</td>\n",
              "      <td>472.372259</td>\n",
              "      <td>50.344264</td>\n",
              "      <td>313.973576</td>\n",
              "      <td>...</td>\n",
              "      <td>51.977813</td>\n",
              "      <td>49.934012</td>\n",
              "      <td>4.976329</td>\n",
              "      <td>50.040673</td>\n",
              "      <td>8.265890</td>\n",
              "      <td>49.977830</td>\n",
              "      <td>19.121779</td>\n",
              "      <td>50.051689</td>\n",
              "      <td>10.417862</td>\n",
              "      <td>48.357838</td>\n",
              "    </tr>\n",
              "    <tr>\n",
              "      <th>std</th>\n",
              "      <td>1972.587602</td>\n",
              "      <td>0.010283</td>\n",
              "      <td>28.602241</td>\n",
              "      <td>2.598074</td>\n",
              "      <td>29.370030</td>\n",
              "      <td>16.993878</td>\n",
              "      <td>28.882180</td>\n",
              "      <td>249.331572</td>\n",
              "      <td>28.828744</td>\n",
              "      <td>2775.125385</td>\n",
              "      <td>...</td>\n",
              "      <td>30.552249</td>\n",
              "      <td>28.921850</td>\n",
              "      <td>1.551352</td>\n",
              "      <td>28.902252</td>\n",
              "      <td>2.971099</td>\n",
              "      <td>28.917487</td>\n",
              "      <td>15.952094</td>\n",
              "      <td>28.848990</td>\n",
              "      <td>9.982732</td>\n",
              "      <td>29.764977</td>\n",
              "    </tr>\n",
              "    <tr>\n",
              "      <th>min</th>\n",
              "      <td>0.000000</td>\n",
              "      <td>0.026421</td>\n",
              "      <td>0.236465</td>\n",
              "      <td>1.651081</td>\n",
              "      <td>0.012475</td>\n",
              "      <td>0.021181</td>\n",
              "      <td>0.012446</td>\n",
              "      <td>6.919810</td>\n",
              "      <td>0.012473</td>\n",
              "      <td>0.000000</td>\n",
              "      <td>...</td>\n",
              "      <td>0.000000</td>\n",
              "      <td>0.000000</td>\n",
              "      <td>0.000000</td>\n",
              "      <td>0.000000</td>\n",
              "      <td>0.000000</td>\n",
              "      <td>0.000000</td>\n",
              "      <td>0.000000</td>\n",
              "      <td>0.000000</td>\n",
              "      <td>0.000000</td>\n",
              "      <td>0.000000</td>\n",
              "    </tr>\n",
              "    <tr>\n",
              "      <th>25%</th>\n",
              "      <td>3358.000000</td>\n",
              "      <td>0.040127</td>\n",
              "      <td>25.874300</td>\n",
              "      <td>8.697944</td>\n",
              "      <td>30.701098</td>\n",
              "      <td>8.811598</td>\n",
              "      <td>25.009334</td>\n",
              "      <td>249.345239</td>\n",
              "      <td>25.009355</td>\n",
              "      <td>0.000000</td>\n",
              "      <td>...</td>\n",
              "      <td>29.855000</td>\n",
              "      <td>24.878444</td>\n",
              "      <td>3.950000</td>\n",
              "      <td>24.977573</td>\n",
              "      <td>6.080000</td>\n",
              "      <td>24.996883</td>\n",
              "      <td>6.300000</td>\n",
              "      <td>25.082009</td>\n",
              "      <td>3.000000</td>\n",
              "      <td>22.516998</td>\n",
              "    </tr>\n",
              "    <tr>\n",
              "      <th>50%</th>\n",
              "      <td>4413.000000</td>\n",
              "      <td>0.046178</td>\n",
              "      <td>53.018046</td>\n",
              "      <td>10.370000</td>\n",
              "      <td>52.607285</td>\n",
              "      <td>16.447688</td>\n",
              "      <td>50.006223</td>\n",
              "      <td>479.227886</td>\n",
              "      <td>51.016590</td>\n",
              "      <td>0.000000</td>\n",
              "      <td>...</td>\n",
              "      <td>45.270000</td>\n",
              "      <td>49.931430</td>\n",
              "      <td>4.920000</td>\n",
              "      <td>50.224273</td>\n",
              "      <td>7.940000</td>\n",
              "      <td>49.956365</td>\n",
              "      <td>14.000000</td>\n",
              "      <td>50.000000</td>\n",
              "      <td>7.400000</td>\n",
              "      <td>48.340221</td>\n",
              "    </tr>\n",
              "    <tr>\n",
              "      <th>75%</th>\n",
              "      <td>5656.500000</td>\n",
              "      <td>0.055122</td>\n",
              "      <td>77.871811</td>\n",
              "      <td>12.050000</td>\n",
              "      <td>81.661677</td>\n",
              "      <td>24.646576</td>\n",
              "      <td>75.003111</td>\n",
              "      <td>664.069078</td>\n",
              "      <td>78.570538</td>\n",
              "      <td>0.370835</td>\n",
              "      <td>...</td>\n",
              "      <td>65.990000</td>\n",
              "      <td>74.959481</td>\n",
              "      <td>5.930000</td>\n",
              "      <td>75.060874</td>\n",
              "      <td>10.040000</td>\n",
              "      <td>75.065453</td>\n",
              "      <td>28.700000</td>\n",
              "      <td>74.993692</td>\n",
              "      <td>14.900000</td>\n",
              "      <td>74.230103</td>\n",
              "    </tr>\n",
              "    <tr>\n",
              "      <th>max</th>\n",
              "      <td>37452.000000</td>\n",
              "      <td>0.067829</td>\n",
              "      <td>100.000000</td>\n",
              "      <td>19.600000</td>\n",
              "      <td>100.000000</td>\n",
              "      <td>253.730796</td>\n",
              "      <td>100.000000</td>\n",
              "      <td>1245.651010</td>\n",
              "      <td>100.000000</td>\n",
              "      <td>91316.186050</td>\n",
              "      <td>...</td>\n",
              "      <td>278.830000</td>\n",
              "      <td>100.000000</td>\n",
              "      <td>14.890000</td>\n",
              "      <td>100.000000</td>\n",
              "      <td>21.260000</td>\n",
              "      <td>100.000000</td>\n",
              "      <td>80.000000</td>\n",
              "      <td>100.000000</td>\n",
              "      <td>72.300000</td>\n",
              "      <td>100.000000</td>\n",
              "    </tr>\n",
              "  </tbody>\n",
              "</table>\n",
              "<p>8 rows × 36 columns</p>\n",
              "</div>"
            ],
            "text/plain": [
              "       Total Population        Ozone   Ozone Pctl        PM2.5   PM2.5 Pctl  \\\n",
              "count       8035.000000  8035.000000  8035.000000  8016.000000  8016.000000   \n",
              "mean        4636.459988     0.047454    53.298961    10.377904    53.594976   \n",
              "std         1972.587602     0.010283    28.602241     2.598074    29.370030   \n",
              "min            0.000000     0.026421     0.236465     1.651081     0.012475   \n",
              "25%         3358.000000     0.040127    25.874300     8.697944    30.701098   \n",
              "50%         4413.000000     0.046178    53.018046    10.370000    52.607285   \n",
              "75%         5656.500000     0.055122    77.871811    12.050000    81.661677   \n",
              "max        37452.000000     0.067829   100.000000    19.600000   100.000000   \n",
              "\n",
              "         Diesel PM  Diesel PM Pctl  Drinking Water  Drinking Water Pctl  \\\n",
              "count  8035.000000     8035.000000     8017.000000          8017.000000   \n",
              "mean     19.196066       50.020674      472.372259            50.344264   \n",
              "std      16.993878       28.882180      249.331572            28.828744   \n",
              "min       0.021181        0.012446        6.919810             0.012473   \n",
              "25%       8.811598       25.009334      249.345239            25.009355   \n",
              "50%      16.447688       50.006223      479.227886            51.016590   \n",
              "75%      24.646576       75.003111      664.069078            78.570538   \n",
              "max     253.730796      100.000000     1245.651010           100.000000   \n",
              "\n",
              "         Pesticides  ...       Asthma  Asthma Pctl  Low Birth Weight  \\\n",
              "count   8035.000000  ...  8035.000000  8035.000000       7813.000000   \n",
              "mean     313.973576  ...    51.977813    49.934012          4.976329   \n",
              "std     2775.125385  ...    30.552249    28.921850          1.551352   \n",
              "min        0.000000  ...     0.000000     0.000000          0.000000   \n",
              "25%        0.000000  ...    29.855000    24.878444          3.950000   \n",
              "50%        0.000000  ...    45.270000    49.931430          4.920000   \n",
              "75%        0.370835  ...    65.990000    74.959481          5.930000   \n",
              "max    91316.186050  ...   278.830000   100.000000         14.890000   \n",
              "\n",
              "       Low Birth Weight Pctl  Cardiovascular Disease  \\\n",
              "count            7813.000000             8035.000000   \n",
              "mean               50.040673                8.265890   \n",
              "std                28.902252                2.971099   \n",
              "min                 0.000000                0.000000   \n",
              "25%                24.977573                6.080000   \n",
              "50%                50.224273                7.940000   \n",
              "75%                75.060874               10.040000   \n",
              "max               100.000000               21.260000   \n",
              "\n",
              "       Cardiovascular Disease Pctl    Education  Education Pctl  \\\n",
              "count                  8035.000000  7939.000000     7939.000000   \n",
              "mean                     49.977830    19.121779       50.051689   \n",
              "std                      28.917487    15.952094       28.848990   \n",
              "min                       0.000000     0.000000        0.000000   \n",
              "25%                      24.996883     6.300000       25.082009   \n",
              "50%                      49.956365    14.000000       50.000000   \n",
              "75%                      75.065453    28.700000       74.993692   \n",
              "max                     100.000000    80.000000      100.000000   \n",
              "\n",
              "       Linguistic Isolation  Linguistic Isolation Pctl  \n",
              "count           7793.000000                7793.000000  \n",
              "mean              10.417862                  48.357838  \n",
              "std                9.982732                  29.764977  \n",
              "min                0.000000                   0.000000  \n",
              "25%                3.000000                  22.516998  \n",
              "50%                7.400000                  48.340221  \n",
              "75%               14.900000                  74.230103  \n",
              "max               72.300000                 100.000000  \n",
              "\n",
              "[8 rows x 36 columns]"
            ]
          },
          "execution_count": 15,
          "metadata": {},
          "output_type": "execute_result"
        }
      ],
      "source": [
        "X.describe()"
      ]
    },
    {
      "cell_type": "markdown",
      "metadata": {},
      "source": [
        "### Recoding Target Variable\n",
        "Recode the target variable to a 1 if greater than the mean value of poverty, otherwise make it a 0. Use this recoded variable as the target variable! Now it is a classification problem.\n"
      ]
    },
    {
      "cell_type": "code",
      "execution_count": 27,
      "metadata": {},
      "outputs": [
        {
          "data": {
            "text/plain": [
              "8035"
            ]
          },
          "execution_count": 27,
          "metadata": {},
          "output_type": "execute_result"
        }
      ],
      "source": [
        "#Recoding the y variable to catergorical variable\n",
        "mean_poverty = y.mean()\n",
        "y= np.where(y > mean_poverty, 1, 0)\n",
        "\n",
        "#lets see the length of y\n",
        "len(y)"
      ]
    },
    {
      "cell_type": "markdown",
      "metadata": {
        "id": "tAJq4uvL3y1N"
      },
      "source": [
        "### Missing Values (Desired Columns)"
      ]
    },
    {
      "cell_type": "markdown",
      "metadata": {
        "id": "CQDrFhyycgQC"
      },
      "source": [
        "Lets analyse the missing values in the desired columns."
      ]
    },
    {
      "cell_type": "code",
      "execution_count": 16,
      "metadata": {
        "colab": {
          "base_uri": "https://localhost:8080/"
        },
        "id": "g4F4jZsLcjkK",
        "outputId": "091b3d93-941b-4a8c-e50d-958756516172"
      },
      "outputs": [
        {
          "data": {
            "text/plain": [
              "1412"
            ]
          },
          "execution_count": 16,
          "metadata": {},
          "output_type": "execute_result"
        }
      ],
      "source": [
        "X.isnull().sum().sum()"
      ]
    },
    {
      "cell_type": "markdown",
      "metadata": {},
      "source": [
        "Total records having missing values are 1412, which is 17.5% of total records i.e. 8035. Here I have chosen to impute the records."
      ]
    },
    {
      "cell_type": "code",
      "execution_count": 19,
      "metadata": {
        "colab": {
          "base_uri": "https://localhost:8080/"
        },
        "id": "qsTrOv7ELpN5",
        "outputId": "3d4b03fd-546e-470f-82f2-3d306bfff1ce"
      },
      "outputs": [
        {
          "data": {
            "text/plain": [
              "17.57311761045426"
            ]
          },
          "execution_count": 19,
          "metadata": {},
          "output_type": "execute_result"
        }
      ],
      "source": [
        "100*(1412/8035)"
      ]
    },
    {
      "cell_type": "markdown",
      "metadata": {
        "id": "1BpUTlVd335J"
      },
      "source": [
        "#### KNN Imputation for Missing Values\n",
        "\n",
        "Here we will impute the missing values using KNN imputer. I have separated the columns that contains null values and also obtained the indices of it to verify that values have been imputed and indices are maintained."
      ]
    },
    {
      "cell_type": "code",
      "execution_count": 23,
      "metadata": {
        "colab": {
          "base_uri": "https://localhost:8080/"
        },
        "id": "iMIcOroZ57m6",
        "outputId": "0afa9cac-7c53-409f-cc35-8504800ac0fa"
      },
      "outputs": [
        {
          "name": "stdout",
          "output_type": "stream",
          "text": [
            "Names of Columns having Null values:\n",
            " Index(['PM2.5', 'PM2.5 Pctl', 'Drinking Water', 'Drinking Water Pctl',\n",
            "       'Traffic', 'Traffic Pctl', 'CES 3.0 Score', 'Low Birth Weight',\n",
            "       'Low Birth Weight Pctl', 'Education', 'Education Pctl',\n",
            "       'Linguistic Isolation', 'Linguistic Isolation Pctl'],\n",
            "      dtype='object')\n",
            "\n",
            " Top 5 Null Indices:\n",
            "\n",
            "Int64Index([29, 37, 75, 80, 82], dtype='int64')\n"
          ]
        }
      ],
      "source": [
        "#Getting the names of columns with NULL values\n",
        "null_columns_X = X.columns[X.isnull().any()]\n",
        "print('Names of Columns having Null values:\\n', null_columns_X)\n",
        "\n",
        "# Getting the indices of null values\n",
        "null_indices = X[X.isnull().any(axis=1)].index\n",
        "\n",
        "# Displaying the top 5 null indices\n",
        "top_5_null_indices = null_indices[:5]\n",
        "print(\"\\n Top 5 Null Indices:\\n\")\n",
        "print(top_5_null_indices)"
      ]
    },
    {
      "cell_type": "code",
      "execution_count": 24,
      "metadata": {
        "colab": {
          "base_uri": "https://localhost:8080/",
          "height": 290
        },
        "id": "qVV9DXma7l0r",
        "outputId": "137734fe-2595-43b6-f19c-c8d0f6ae4351"
      },
      "outputs": [
        {
          "data": {
            "text/html": [
              "<div>\n",
              "<style scoped>\n",
              "    .dataframe tbody tr th:only-of-type {\n",
              "        vertical-align: middle;\n",
              "    }\n",
              "\n",
              "    .dataframe tbody tr th {\n",
              "        vertical-align: top;\n",
              "    }\n",
              "\n",
              "    .dataframe thead th {\n",
              "        text-align: right;\n",
              "    }\n",
              "</style>\n",
              "<table border=\"1\" class=\"dataframe\">\n",
              "  <thead>\n",
              "    <tr style=\"text-align: right;\">\n",
              "      <th></th>\n",
              "      <th>Total Population</th>\n",
              "      <th>Ozone</th>\n",
              "      <th>Ozone Pctl</th>\n",
              "      <th>PM2.5</th>\n",
              "      <th>PM2.5 Pctl</th>\n",
              "      <th>Diesel PM</th>\n",
              "      <th>Diesel PM Pctl</th>\n",
              "      <th>Drinking Water</th>\n",
              "      <th>Drinking Water Pctl</th>\n",
              "      <th>Pesticides</th>\n",
              "      <th>...</th>\n",
              "      <th>Asthma</th>\n",
              "      <th>Asthma Pctl</th>\n",
              "      <th>Low Birth Weight</th>\n",
              "      <th>Low Birth Weight Pctl</th>\n",
              "      <th>Cardiovascular Disease</th>\n",
              "      <th>Cardiovascular Disease Pctl</th>\n",
              "      <th>Education</th>\n",
              "      <th>Education Pctl</th>\n",
              "      <th>Linguistic Isolation</th>\n",
              "      <th>Linguistic Isolation Pctl</th>\n",
              "    </tr>\n",
              "  </thead>\n",
              "  <tbody>\n",
              "    <tr>\n",
              "      <th>29</th>\n",
              "      <td>4497</td>\n",
              "      <td>0.064889</td>\n",
              "      <td>98.182950</td>\n",
              "      <td>12.890000</td>\n",
              "      <td>92.889222</td>\n",
              "      <td>29.001478</td>\n",
              "      <td>83.223398</td>\n",
              "      <td>960.391766</td>\n",
              "      <td>98.079082</td>\n",
              "      <td>0.000000</td>\n",
              "      <td>...</td>\n",
              "      <td>108.89</td>\n",
              "      <td>94.526867</td>\n",
              "      <td>7.11</td>\n",
              "      <td>91.528899</td>\n",
              "      <td>12.27</td>\n",
              "      <td>89.864107</td>\n",
              "      <td>25.3</td>\n",
              "      <td>70.489528</td>\n",
              "      <td>NaN</td>\n",
              "      <td>NaN</td>\n",
              "    </tr>\n",
              "    <tr>\n",
              "      <th>37</th>\n",
              "      <td>2860</td>\n",
              "      <td>0.064889</td>\n",
              "      <td>98.182950</td>\n",
              "      <td>15.400000</td>\n",
              "      <td>97.218064</td>\n",
              "      <td>57.192132</td>\n",
              "      <td>97.013068</td>\n",
              "      <td>681.195604</td>\n",
              "      <td>80.915554</td>\n",
              "      <td>49.060519</td>\n",
              "      <td>...</td>\n",
              "      <td>69.87</td>\n",
              "      <td>78.531355</td>\n",
              "      <td>NaN</td>\n",
              "      <td>NaN</td>\n",
              "      <td>14.23</td>\n",
              "      <td>96.546565</td>\n",
              "      <td>45.9</td>\n",
              "      <td>91.622508</td>\n",
              "      <td>11.7</td>\n",
              "      <td>65.017998</td>\n",
              "    </tr>\n",
              "    <tr>\n",
              "      <th>75</th>\n",
              "      <td>1823</td>\n",
              "      <td>0.046178</td>\n",
              "      <td>53.018046</td>\n",
              "      <td>9.536303</td>\n",
              "      <td>40.918164</td>\n",
              "      <td>17.793975</td>\n",
              "      <td>53.976353</td>\n",
              "      <td>80.014449</td>\n",
              "      <td>6.261694</td>\n",
              "      <td>0.413440</td>\n",
              "      <td>...</td>\n",
              "      <td>76.08</td>\n",
              "      <td>82.695425</td>\n",
              "      <td>14.89</td>\n",
              "      <td>100.000000</td>\n",
              "      <td>9.25</td>\n",
              "      <td>66.089016</td>\n",
              "      <td>22.8</td>\n",
              "      <td>66.868534</td>\n",
              "      <td>NaN</td>\n",
              "      <td>NaN</td>\n",
              "    </tr>\n",
              "    <tr>\n",
              "      <th>80</th>\n",
              "      <td>1164</td>\n",
              "      <td>0.044312</td>\n",
              "      <td>40.485376</td>\n",
              "      <td>12.050000</td>\n",
              "      <td>81.661677</td>\n",
              "      <td>27.307736</td>\n",
              "      <td>80.746733</td>\n",
              "      <td>473.984973</td>\n",
              "      <td>48.596732</td>\n",
              "      <td>3.757860</td>\n",
              "      <td>...</td>\n",
              "      <td>68.35</td>\n",
              "      <td>77.060217</td>\n",
              "      <td>6.60</td>\n",
              "      <td>86.236063</td>\n",
              "      <td>10.28</td>\n",
              "      <td>76.748535</td>\n",
              "      <td>28.3</td>\n",
              "      <td>74.577340</td>\n",
              "      <td>NaN</td>\n",
              "      <td>NaN</td>\n",
              "    </tr>\n",
              "    <tr>\n",
              "      <th>82</th>\n",
              "      <td>3673</td>\n",
              "      <td>0.046178</td>\n",
              "      <td>53.018046</td>\n",
              "      <td>12.050000</td>\n",
              "      <td>81.661677</td>\n",
              "      <td>18.530000</td>\n",
              "      <td>57.199751</td>\n",
              "      <td>626.585402</td>\n",
              "      <td>70.799551</td>\n",
              "      <td>0.080666</td>\n",
              "      <td>...</td>\n",
              "      <td>41.67</td>\n",
              "      <td>44.657773</td>\n",
              "      <td>7.49</td>\n",
              "      <td>94.181725</td>\n",
              "      <td>8.87</td>\n",
              "      <td>61.999751</td>\n",
              "      <td>62.8</td>\n",
              "      <td>98.927580</td>\n",
              "      <td>25.8</td>\n",
              "      <td>91.121184</td>\n",
              "    </tr>\n",
              "  </tbody>\n",
              "</table>\n",
              "<p>5 rows × 36 columns</p>\n",
              "</div>"
            ],
            "text/plain": [
              "    Total Population     Ozone  Ozone Pctl      PM2.5  PM2.5 Pctl  Diesel PM  \\\n",
              "29              4497  0.064889   98.182950  12.890000   92.889222  29.001478   \n",
              "37              2860  0.064889   98.182950  15.400000   97.218064  57.192132   \n",
              "75              1823  0.046178   53.018046   9.536303   40.918164  17.793975   \n",
              "80              1164  0.044312   40.485376  12.050000   81.661677  27.307736   \n",
              "82              3673  0.046178   53.018046  12.050000   81.661677  18.530000   \n",
              "\n",
              "    Diesel PM Pctl  Drinking Water  Drinking Water Pctl  Pesticides  ...  \\\n",
              "29       83.223398      960.391766            98.079082    0.000000  ...   \n",
              "37       97.013068      681.195604            80.915554   49.060519  ...   \n",
              "75       53.976353       80.014449             6.261694    0.413440  ...   \n",
              "80       80.746733      473.984973            48.596732    3.757860  ...   \n",
              "82       57.199751      626.585402            70.799551    0.080666  ...   \n",
              "\n",
              "    Asthma  Asthma Pctl  Low Birth Weight  Low Birth Weight Pctl  \\\n",
              "29  108.89    94.526867              7.11              91.528899   \n",
              "37   69.87    78.531355               NaN                    NaN   \n",
              "75   76.08    82.695425             14.89             100.000000   \n",
              "80   68.35    77.060217              6.60              86.236063   \n",
              "82   41.67    44.657773              7.49              94.181725   \n",
              "\n",
              "    Cardiovascular Disease  Cardiovascular Disease Pctl  Education  \\\n",
              "29                   12.27                    89.864107       25.3   \n",
              "37                   14.23                    96.546565       45.9   \n",
              "75                    9.25                    66.089016       22.8   \n",
              "80                   10.28                    76.748535       28.3   \n",
              "82                    8.87                    61.999751       62.8   \n",
              "\n",
              "    Education Pctl  Linguistic Isolation  Linguistic Isolation Pctl  \n",
              "29       70.489528                   NaN                        NaN  \n",
              "37       91.622508                  11.7                  65.017998  \n",
              "75       66.868534                   NaN                        NaN  \n",
              "80       74.577340                   NaN                        NaN  \n",
              "82       98.927580                  25.8                  91.121184  \n",
              "\n",
              "[5 rows x 36 columns]"
            ]
          },
          "execution_count": 24,
          "metadata": {},
          "output_type": "execute_result"
        }
      ],
      "source": [
        "#Seeing the records before imputation\n",
        "X.loc[top_5_null_indices] #Notice the last two columns"
      ]
    },
    {
      "cell_type": "code",
      "execution_count": 25,
      "metadata": {
        "id": "ccbXWLOsC3d6"
      },
      "outputs": [],
      "source": [
        "#Imputing the missing values in the X\n",
        "#KNN imputation\n",
        "from sklearn.impute import KNNImputer\n",
        "\n",
        "knn_imputer = KNNImputer(n_neighbors=10,weights='distance')\n",
        "\n",
        "# Creating a new DataFrame with the selected columns (which has missing values)\n",
        "data_with_missing_values_X = X.loc[:, null_columns_X]\n",
        "\n",
        "# Imputing the missing values\n",
        "imputed_data_X = knn_imputer.fit_transform(data_with_missing_values_X)"
      ]
    },
    {
      "cell_type": "code",
      "execution_count": 26,
      "metadata": {
        "colab": {
          "base_uri": "https://localhost:8080/",
          "height": 290
        },
        "id": "PcexQ05KufS9",
        "outputId": "33de14b7-1ac6-435f-89e4-c4ca5e145831"
      },
      "outputs": [
        {
          "data": {
            "text/html": [
              "<div>\n",
              "<style scoped>\n",
              "    .dataframe tbody tr th:only-of-type {\n",
              "        vertical-align: middle;\n",
              "    }\n",
              "\n",
              "    .dataframe tbody tr th {\n",
              "        vertical-align: top;\n",
              "    }\n",
              "\n",
              "    .dataframe thead th {\n",
              "        text-align: right;\n",
              "    }\n",
              "</style>\n",
              "<table border=\"1\" class=\"dataframe\">\n",
              "  <thead>\n",
              "    <tr style=\"text-align: right;\">\n",
              "      <th></th>\n",
              "      <th>Total Population</th>\n",
              "      <th>Ozone</th>\n",
              "      <th>Ozone Pctl</th>\n",
              "      <th>PM2.5</th>\n",
              "      <th>PM2.5 Pctl</th>\n",
              "      <th>Diesel PM</th>\n",
              "      <th>Diesel PM Pctl</th>\n",
              "      <th>Drinking Water</th>\n",
              "      <th>Drinking Water Pctl</th>\n",
              "      <th>Pesticides</th>\n",
              "      <th>...</th>\n",
              "      <th>Asthma</th>\n",
              "      <th>Asthma Pctl</th>\n",
              "      <th>Low Birth Weight</th>\n",
              "      <th>Low Birth Weight Pctl</th>\n",
              "      <th>Cardiovascular Disease</th>\n",
              "      <th>Cardiovascular Disease Pctl</th>\n",
              "      <th>Education</th>\n",
              "      <th>Education Pctl</th>\n",
              "      <th>Linguistic Isolation</th>\n",
              "      <th>Linguistic Isolation Pctl</th>\n",
              "    </tr>\n",
              "  </thead>\n",
              "  <tbody>\n",
              "    <tr>\n",
              "      <th>29</th>\n",
              "      <td>4497</td>\n",
              "      <td>0.064889</td>\n",
              "      <td>98.182950</td>\n",
              "      <td>12.890000</td>\n",
              "      <td>92.889222</td>\n",
              "      <td>29.001478</td>\n",
              "      <td>83.223398</td>\n",
              "      <td>960.391766</td>\n",
              "      <td>98.079082</td>\n",
              "      <td>0.000000</td>\n",
              "      <td>...</td>\n",
              "      <td>108.89</td>\n",
              "      <td>94.526867</td>\n",
              "      <td>7.110000</td>\n",
              "      <td>91.528899</td>\n",
              "      <td>12.27</td>\n",
              "      <td>89.864107</td>\n",
              "      <td>25.3</td>\n",
              "      <td>70.489528</td>\n",
              "      <td>7.123863</td>\n",
              "      <td>44.383091</td>\n",
              "    </tr>\n",
              "    <tr>\n",
              "      <th>37</th>\n",
              "      <td>2860</td>\n",
              "      <td>0.064889</td>\n",
              "      <td>98.182950</td>\n",
              "      <td>15.400000</td>\n",
              "      <td>97.218064</td>\n",
              "      <td>57.192132</td>\n",
              "      <td>97.013068</td>\n",
              "      <td>681.195604</td>\n",
              "      <td>80.915554</td>\n",
              "      <td>49.060519</td>\n",
              "      <td>...</td>\n",
              "      <td>69.87</td>\n",
              "      <td>78.531355</td>\n",
              "      <td>5.994002</td>\n",
              "      <td>71.837869</td>\n",
              "      <td>14.23</td>\n",
              "      <td>96.546565</td>\n",
              "      <td>45.9</td>\n",
              "      <td>91.622508</td>\n",
              "      <td>11.700000</td>\n",
              "      <td>65.017998</td>\n",
              "    </tr>\n",
              "    <tr>\n",
              "      <th>75</th>\n",
              "      <td>1823</td>\n",
              "      <td>0.046178</td>\n",
              "      <td>53.018046</td>\n",
              "      <td>9.536303</td>\n",
              "      <td>40.918164</td>\n",
              "      <td>17.793975</td>\n",
              "      <td>53.976353</td>\n",
              "      <td>80.014449</td>\n",
              "      <td>6.261694</td>\n",
              "      <td>0.413440</td>\n",
              "      <td>...</td>\n",
              "      <td>76.08</td>\n",
              "      <td>82.695425</td>\n",
              "      <td>14.890000</td>\n",
              "      <td>100.000000</td>\n",
              "      <td>9.25</td>\n",
              "      <td>66.089016</td>\n",
              "      <td>22.8</td>\n",
              "      <td>66.868534</td>\n",
              "      <td>16.165276</td>\n",
              "      <td>73.165972</td>\n",
              "    </tr>\n",
              "    <tr>\n",
              "      <th>80</th>\n",
              "      <td>1164</td>\n",
              "      <td>0.044312</td>\n",
              "      <td>40.485376</td>\n",
              "      <td>12.050000</td>\n",
              "      <td>81.661677</td>\n",
              "      <td>27.307736</td>\n",
              "      <td>80.746733</td>\n",
              "      <td>473.984973</td>\n",
              "      <td>48.596732</td>\n",
              "      <td>3.757860</td>\n",
              "      <td>...</td>\n",
              "      <td>68.35</td>\n",
              "      <td>77.060217</td>\n",
              "      <td>6.600000</td>\n",
              "      <td>86.236063</td>\n",
              "      <td>10.28</td>\n",
              "      <td>76.748535</td>\n",
              "      <td>28.3</td>\n",
              "      <td>74.577340</td>\n",
              "      <td>14.250893</td>\n",
              "      <td>64.539039</td>\n",
              "    </tr>\n",
              "    <tr>\n",
              "      <th>82</th>\n",
              "      <td>3673</td>\n",
              "      <td>0.046178</td>\n",
              "      <td>53.018046</td>\n",
              "      <td>12.050000</td>\n",
              "      <td>81.661677</td>\n",
              "      <td>18.530000</td>\n",
              "      <td>57.199751</td>\n",
              "      <td>626.585402</td>\n",
              "      <td>70.799551</td>\n",
              "      <td>0.080666</td>\n",
              "      <td>...</td>\n",
              "      <td>41.67</td>\n",
              "      <td>44.657773</td>\n",
              "      <td>7.490000</td>\n",
              "      <td>94.181725</td>\n",
              "      <td>8.87</td>\n",
              "      <td>61.999751</td>\n",
              "      <td>62.8</td>\n",
              "      <td>98.927580</td>\n",
              "      <td>25.800000</td>\n",
              "      <td>91.121184</td>\n",
              "    </tr>\n",
              "  </tbody>\n",
              "</table>\n",
              "<p>5 rows × 36 columns</p>\n",
              "</div>"
            ],
            "text/plain": [
              "    Total Population     Ozone  Ozone Pctl      PM2.5  PM2.5 Pctl  Diesel PM  \\\n",
              "29              4497  0.064889   98.182950  12.890000   92.889222  29.001478   \n",
              "37              2860  0.064889   98.182950  15.400000   97.218064  57.192132   \n",
              "75              1823  0.046178   53.018046   9.536303   40.918164  17.793975   \n",
              "80              1164  0.044312   40.485376  12.050000   81.661677  27.307736   \n",
              "82              3673  0.046178   53.018046  12.050000   81.661677  18.530000   \n",
              "\n",
              "    Diesel PM Pctl  Drinking Water  Drinking Water Pctl  Pesticides  ...  \\\n",
              "29       83.223398      960.391766            98.079082    0.000000  ...   \n",
              "37       97.013068      681.195604            80.915554   49.060519  ...   \n",
              "75       53.976353       80.014449             6.261694    0.413440  ...   \n",
              "80       80.746733      473.984973            48.596732    3.757860  ...   \n",
              "82       57.199751      626.585402            70.799551    0.080666  ...   \n",
              "\n",
              "    Asthma  Asthma Pctl  Low Birth Weight  Low Birth Weight Pctl  \\\n",
              "29  108.89    94.526867          7.110000              91.528899   \n",
              "37   69.87    78.531355          5.994002              71.837869   \n",
              "75   76.08    82.695425         14.890000             100.000000   \n",
              "80   68.35    77.060217          6.600000              86.236063   \n",
              "82   41.67    44.657773          7.490000              94.181725   \n",
              "\n",
              "    Cardiovascular Disease  Cardiovascular Disease Pctl  Education  \\\n",
              "29                   12.27                    89.864107       25.3   \n",
              "37                   14.23                    96.546565       45.9   \n",
              "75                    9.25                    66.089016       22.8   \n",
              "80                   10.28                    76.748535       28.3   \n",
              "82                    8.87                    61.999751       62.8   \n",
              "\n",
              "    Education Pctl  Linguistic Isolation  Linguistic Isolation Pctl  \n",
              "29       70.489528              7.123863                  44.383091  \n",
              "37       91.622508             11.700000                  65.017998  \n",
              "75       66.868534             16.165276                  73.165972  \n",
              "80       74.577340             14.250893                  64.539039  \n",
              "82       98.927580             25.800000                  91.121184  \n",
              "\n",
              "[5 rows x 36 columns]"
            ]
          },
          "execution_count": 26,
          "metadata": {},
          "output_type": "execute_result"
        }
      ],
      "source": [
        "# Creating a new DataFrame with the imputed values\n",
        "# setting the same index as X\n",
        "''' This is very important otherwise it will create its new index and\n",
        "create problem when we replace values in the original X dataset '''\n",
        "\n",
        "imputed_df_X = pd.DataFrame(imputed_data_X, columns=null_columns_X,index=X.index)\n",
        "\n",
        "# Replacing the imputed columns in the original DataFrame with the imputed values\n",
        "X[null_columns_X]=imputed_df_X\n",
        "\n",
        "#lets view the imputed data with same indices we saw earlier\n",
        "X.loc[top_5_null_indices]\n"
      ]
    },
    {
      "cell_type": "markdown",
      "metadata": {},
      "source": [
        "### Plots and Tables\n"
      ]
    },
    {
      "cell_type": "markdown",
      "metadata": {
        "id": "PWvsFDEGXgM5"
      },
      "source": [
        "#### 1. Correlation of Variable with Target Variable (Original)\n",
        "\n",
        "Lets see how variable are correlated witht the target variable (the original one without recoding).\n",
        "\n",
        "The figure below indicates that ```CES 3.0 Score```and ```Asthama Pctl``` are significantly positively correlated to the ```Poverty```\n",
        "\n",
        "**Insights on relation to recoded values:**\n",
        "\n",
        "Since we have assigned 1 to ```Poverty``` greater than the mean of Poverty, the NN  model might assign weights to these two features such that the value of  ```Poverty``` number could increase; thereby, predicting 1."
      ]
    },
    {
      "cell_type": "code",
      "execution_count": 28,
      "metadata": {
        "colab": {
          "base_uri": "https://localhost:8080/",
          "height": 807
        },
        "id": "UJjWEFWAXGAA",
        "outputId": "d413ca3c-d8c0-4dfd-d3ab-bcbbd06d16dc"
      },
      "outputs": [
        {
          "data": {
            "image/png": "[encoded data removed]",
            "text/plain": [
              "<Figure size 432x576 with 2 Axes>"
            ]
          },
          "metadata": {
            "needs_background": "light"
          },
          "output_type": "display_data"
        }
      ],
      "source": [
        "# Calculate the correlation matrix between X_train features and y_train target variable\n",
        "corr_matrix = X.corrwith(df1['Poverty'])\n",
        "\n",
        "# Sort the correlation matrix in descending order\n",
        "sorted_corr_matrix = corr_matrix.sort_values(ascending=False)\n",
        "\n",
        "# Create a heatmap of the sorted correlation matrix\n",
        "fig, ax = plt.subplots(figsize=(6, 8))\n",
        "sns.heatmap(sorted_corr_matrix.to_frame(), annot=True, cmap='coolwarm', cbar=True, ax=ax)\n",
        "plt.title('Correlation Heatmap (Highest to Lowest)')\n",
        "plt.tight_layout()\n",
        "plt.show()"
      ]
    },
    {
      "cell_type": "markdown",
      "metadata": {
        "id": "HUkIAIWgyQ7P"
      },
      "source": [
        "#### 2. Bar plot of Target Variable\n",
        "\n",
        "The count of the target variable (1 and 0) is plotted as a bar plot to better visualise if the dataset is balanced or imbalanced.\n",
        "\n",
        "Here from the graph we can tell that the dataset is nearly balanced.\n",
        "\n",
        "It is important to have the dataset balanced in order to predict both the classes without bias. In case of imbalanced data, the class with more data wou"
      ]
    },
    {
      "cell_type": "code",
      "execution_count": 29,
      "metadata": {
        "colab": {
          "base_uri": "https://localhost:8080/",
          "height": 472
        },
        "id": "XWeDUUelZkoX",
        "outputId": "22f4ef3c-7de7-4c3e-b5a6-466f9ee7c314"
      },
      "outputs": [
        {
          "data": {
            "image/png": "[encoded data removed]",
            "text/plain": [
              "<Figure size 432x288 with 1 Axes>"
            ]
          },
          "metadata": {
            "needs_background": "light"
          },
          "output_type": "display_data"
        }
      ],
      "source": [
        "value_counts = np.bincount(y)\n",
        "\n",
        "# Create a bar plot\n",
        "plt.bar(range(len(value_counts)), value_counts)\n",
        "plt.xlabel('Category')\n",
        "plt.ylabel('Count')\n",
        "plt.title('Count of Categories (1 and 0)')\n",
        "plt.xticks(range(len(value_counts)))\n",
        "for i, count in enumerate(value_counts):\n",
        "    plt.text(i, count, str(count), ha='center', va='bottom')\n",
        "\n",
        "plt.show()"
      ]
    },
    {
      "cell_type": "markdown",
      "metadata": {
        "id": "yNMMRDQZ3eNB"
      },
      "source": [
        "#### 3. Correlation (all variables) Plot\n",
        "\n",
        "This plot gives an idea about what features are correlated with each other with what degree of correlation. It should be noted here that Pctl columns are percentile of its counterparts (example, PM2.5 has PM2.5 Pctl). It occured to me that as these are just repeated information in the data, could this be gotten rid of and then build a model. A thought behind this is keeping features which are same just coded differently might make mode more complex or might make it biased for some features. I will run a same model with these features removed towards the end of this collab just for the experiment.\n"
      ]
    },
    {
      "cell_type": "code",
      "execution_count": 30,
      "metadata": {
        "colab": {
          "base_uri": "https://localhost:8080/",
          "height": 1000
        },
        "id": "88TDyrTZAM_H",
        "outputId": "914a0b08-ac48-4c1a-f581-0ecd3656fa84"
      },
      "outputs": [
        {
          "name": "stderr",
          "output_type": "stream",
          "text": [
            "c:\\Users\\surya\\anaconda3\\lib\\site-packages\\seaborn\\matrix.py:256: FutureWarning: Format strings passed to MaskedConstant are ignored, but in future may error or produce different behavior\n",
            "  annotation = (\"{:\" + self.fmt + \"}\").format(val)\n"
          ]
        },
        {
          "data": {
            "image/png": "[encoded data removed]",
            "text/plain": [
              "<Figure size 2160x2160 with 2 Axes>"
            ]
          },
          "metadata": {
            "needs_background": "light"
          },
          "output_type": "display_data"
        }
      ],
      "source": [
        "# Calculating the correlation matrix for all features\n",
        "corr_matrix = X.corr()\n",
        "\n",
        "# Sort the correlation matrix in descending order\n",
        "sorted_corr_matrix = corr_matrix.unstack().sort_values(ascending=False)\n",
        "\n",
        "# Removing the correlation values with itself (diagonal elements)\n",
        "sorted_corr_matrix = sorted_corr_matrix[~(sorted_corr_matrix.index.get_level_values(0) == sorted_corr_matrix.index.get_level_values(1))]\n",
        "\n",
        "# Creating a heatmap of the sorted correlation matrix\n",
        "fig, ax = plt.subplots(figsize=(30, 30))\n",
        "sns.heatmap(sorted_corr_matrix.unstack(), annot=True, cmap='coolwarm', cbar=True, ax=ax, annot_kws={\"size\":16},fmt='.2f')\n",
        "plt.title('Correlation Heatmap (Highest to Lowest)',fontsize=20)\n",
        "plt.tight_layout()\n",
        "plt.show()"
      ]
    },
    {
      "cell_type": "markdown",
      "metadata": {
        "id": "qpvk-nfyTIQ0"
      },
      "source": [
        "## Spliiting Data\n",
        "90/10 split for X_train, X_test, y_train, y_test where the random seed is 1234."
      ]
    },
    {
      "cell_type": "code",
      "execution_count": 31,
      "metadata": {
        "id": "nKXCmtrTzMw-"
      },
      "outputs": [],
      "source": [
        "#splitting dataset in train and test\n",
        "X_train, X_test, y_train, y_test= train_test_split(X, y, test_size=0.1, random_state=1234)"
      ]
    },
    {
      "cell_type": "markdown",
      "metadata": {
        "id": "Syz8nj0hvdAT"
      },
      "source": [
        "Saving these split of train and test dataset in another variables X2 for other model that thought to experiment with (by removing the correlated features, mainly corresponding Pctl metric). In later part (in Appendix), the columns containng the Pctl were removed and same model (defined under different name) was run on this data to compare the performance."
      ]
    },
    {
      "cell_type": "code",
      "execution_count": 32,
      "metadata": {
        "id": "g7_ODwt_OpfI"
      },
      "outputs": [],
      "source": [
        "#Saving these train and test dataset in another dataframe for another model (in Appendix)\n",
        "X2_train=X_train\n",
        "X2_test=X_test"
      ]
    },
    {
      "cell_type": "code",
      "execution_count": 33,
      "metadata": {
        "colab": {
          "base_uri": "https://localhost:8080/"
        },
        "id": "GG96oSWPb5w5",
        "outputId": "4109b38f-323d-4f2c-a3d6-ce70cefa923b"
      },
      "outputs": [
        {
          "name": "stdout",
          "output_type": "stream",
          "text": [
            "(7231, 36) (7231,)\n",
            "(804, 36) (804,)\n"
          ]
        }
      ],
      "source": [
        "#making sure that the data is split correctly\n",
        "print(X_train.shape,y_train.shape)\n",
        "print(X_test.shape,y_test.shape)"
      ]
    },
    {
      "cell_type": "markdown",
      "metadata": {
        "id": "gWl_3fIlTLc6"
      },
      "source": [
        "## Scaling\n",
        "Use the StandardScaler() on train and apply to test partition. Do not scale the target variable!\n"
      ]
    },
    {
      "cell_type": "code",
      "execution_count": 34,
      "metadata": {
        "id": "CkrjQLCcz6cP"
      },
      "outputs": [],
      "source": [
        "standard_scaler = StandardScaler()\n",
        "X_train = standard_scaler.fit_transform(X_train)\n",
        "X_test = standard_scaler.transform(X_test)"
      ]
    },
    {
      "cell_type": "markdown",
      "metadata": {
        "id": "e8BydNASTP00"
      },
      "source": [
        "## Build and Compile the Model\n",
        "Build a model using the Sequential API (like we do in class) with at least 2 dense layers with the relu activation function, and with dropout in between each dense layer (use a number between 0.1 and 0.5). Compile the model using an appropriate optimizer. Use early stopping with patience of at least 10 and restore the best weights once the model converges. You can choose whatever batch size you would like to."
      ]
    },
    {
      "cell_type": "code",
      "execution_count": 35,
      "metadata": {
        "colab": {
          "base_uri": "https://localhost:8080/"
        },
        "id": "vHcrGwZz0h0H",
        "outputId": "d4a1d093-cd18-4828-c07a-6a1b16b6f84a"
      },
      "outputs": [
        {
          "data": {
            "text/plain": [
              "36"
            ]
          },
          "execution_count": 35,
          "metadata": {},
          "output_type": "execute_result"
        }
      ],
      "source": [
        "X_train.shape[1]"
      ]
    },
    {
      "cell_type": "code",
      "execution_count": 36,
      "metadata": {
        "colab": {
          "base_uri": "https://localhost:8080/"
        },
        "id": "3opbSCdz0ja3",
        "outputId": "1ebc76f2-5c61-472e-c980-f6193fdc0d4f"
      },
      "outputs": [
        {
          "name": "stdout",
          "output_type": "stream",
          "text": [
            "WARNING:tensorflow:From c:\\Users\\surya\\anaconda3\\lib\\site-packages\\keras\\src\\backend.py:873: The name tf.get_default_graph is deprecated. Please use tf.compat.v1.get_default_graph instead.\n",
            "\n",
            "Model: \"sequential\"\n",
            "_________________________________________________________________\n",
            " Layer (type)                Output Shape              Param #   \n",
            "=================================================================\n",
            " dense (Dense)               (None, 128)               4736      \n",
            "                                                                 \n",
            " dropout (Dropout)           (None, 128)               0         \n",
            "                                                                 \n",
            " dense_1 (Dense)             (None, 64)                8256      \n",
            "                                                                 \n",
            " dropout_1 (Dropout)         (None, 64)                0         \n",
            "                                                                 \n",
            " dense_2 (Dense)             (None, 32)                2080      \n",
            "                                                                 \n",
            " dropout_2 (Dropout)         (None, 32)                0         \n",
            "                                                                 \n",
            " dense_3 (Dense)             (None, 1)                 33        \n",
            "                                                                 \n",
            "=================================================================\n",
            "Total params: 15105 (59.00 KB)\n",
            "Trainable params: 15105 (59.00 KB)\n",
            "Non-trainable params: 0 (0.00 Byte)\n",
            "_________________________________________________________________\n"
          ]
        }
      ],
      "source": [
        "model = Sequential()\n",
        "model.add(Dense(128, input_shape=(X_train.shape[1],), activation='relu')) # (features,)\n",
        "model.add(Dropout(0.15)) # specify a percentage between 0 and 0.5\n",
        "model.add(Dense(64, activation='relu')) # output node\n",
        "model.add(Dropout(0.2)) # specify a percentage between 0 and 0.5\n",
        "model.add(Dense(32, activation='relu')) # output node\n",
        "model.add(Dropout(0.2)) # specify a percentage between 0 and 0.5\n",
        "model.add(Dense(1, activation='sigmoid')) # output node\n",
        "model.summary() # see what your model looks like\n"
      ]
    },
    {
      "cell_type": "code",
      "execution_count": 37,
      "metadata": {
        "id": "O64Sz-By03Om"
      },
      "outputs": [
        {
          "name": "stdout",
          "output_type": "stream",
          "text": [
            "WARNING:tensorflow:From c:\\Users\\surya\\anaconda3\\lib\\site-packages\\keras\\src\\optimizers\\__init__.py:309: The name tf.train.Optimizer is deprecated. Please use tf.compat.v1.train.Optimizer instead.\n",
            "\n"
          ]
        }
      ],
      "source": [
        "# compile the model\n",
        "model.compile(optimizer='adam',\n",
        "              loss='binary_crossentropy',\n",
        "              metrics=['accuracy'])"
      ]
    },
    {
      "cell_type": "markdown",
      "metadata": {
        "id": "diwWkbGpTSt0"
      },
      "source": [
        "## Fitting the Model\n",
        "Fit the model for 100000 epochs with a batch size of your choice, using X_test and y_test as the validation data. **Don’t forget the early stopping callback!**"
      ]
    },
    {
      "cell_type": "code",
      "execution_count": 38,
      "metadata": {},
      "outputs": [],
      "source": [
        "# using early stopping so that our model can quit if its not improving after patience of 20\n",
        "es = EarlyStopping(monitor='val_accuracy',\n",
        "                                   mode='max', # don't minimize the accuracy!\n",
        "                                   patience=20,\n",
        "                                   restore_best_weights=True)"
      ]
    },
    {
      "cell_type": "code",
      "execution_count": 39,
      "metadata": {
        "colab": {
          "base_uri": "https://localhost:8080/"
        },
        "id": "-hj1g5LN1XDw",
        "outputId": "367934ca-d756-4175-f6e6-9bdb2a71fa67"
      },
      "outputs": [
        {
          "name": "stdout",
          "output_type": "stream",
          "text": [
            "Epoch 1/100000\n",
            "WARNING:tensorflow:From c:\\Users\\surya\\anaconda3\\lib\\site-packages\\keras\\src\\utils\\tf_utils.py:492: The name tf.ragged.RaggedTensorValue is deprecated. Please use tf.compat.v1.ragged.RaggedTensorValue instead.\n",
            "\n",
            "WARNING:tensorflow:From c:\\Users\\surya\\anaconda3\\lib\\site-packages\\keras\\src\\engine\\base_layer_utils.py:384: The name tf.executing_eagerly_outside_functions is deprecated. Please use tf.compat.v1.executing_eagerly_outside_functions instead.\n",
            "\n",
            "4/4 [==============================] - 1s 59ms/step - loss: 0.6570 - accuracy: 0.5839 - val_loss: 0.5854 - val_accuracy: 0.7687\n",
            "Epoch 2/100000\n",
            "4/4 [==============================] - 0s 13ms/step - loss: 0.5635 - accuracy: 0.7404 - val_loss: 0.5093 - val_accuracy: 0.7973\n",
            "Epoch 3/100000\n",
            "4/4 [==============================] - 0s 13ms/step - loss: 0.4946 - accuracy: 0.8024 - val_loss: 0.4528 - val_accuracy: 0.8035\n",
            "Epoch 4/100000\n",
            "4/4 [==============================] - 0s 13ms/step - loss: 0.4412 - accuracy: 0.8141 - val_loss: 0.4157 - val_accuracy: 0.8072\n",
            "Epoch 5/100000\n",
            "4/4 [==============================] - 0s 14ms/step - loss: 0.4120 - accuracy: 0.8235 - val_loss: 0.3927 - val_accuracy: 0.8172\n",
            "Epoch 6/100000\n",
            "4/4 [==============================] - 0s 14ms/step - loss: 0.3970 - accuracy: 0.8288 - val_loss: 0.3768 - val_accuracy: 0.8246\n",
            "Epoch 7/100000\n",
            "4/4 [==============================] - 0s 15ms/step - loss: 0.3781 - accuracy: 0.8389 - val_loss: 0.3630 - val_accuracy: 0.8346\n",
            "Epoch 8/100000\n",
            "4/4 [==============================] - 0s 12ms/step - loss: 0.3672 - accuracy: 0.8447 - val_loss: 0.3524 - val_accuracy: 0.8346\n",
            "Epoch 9/100000\n",
            "4/4 [==============================] - 0s 14ms/step - loss: 0.3573 - accuracy: 0.8483 - val_loss: 0.3433 - val_accuracy: 0.8383\n",
            "Epoch 10/100000\n",
            "4/4 [==============================] - 0s 14ms/step - loss: 0.3507 - accuracy: 0.8505 - val_loss: 0.3369 - val_accuracy: 0.8383\n",
            "Epoch 11/100000\n",
            "4/4 [==============================] - 0s 19ms/step - loss: 0.3431 - accuracy: 0.8563 - val_loss: 0.3322 - val_accuracy: 0.8408\n",
            "Epoch 12/100000\n",
            "4/4 [==============================] - 0s 14ms/step - loss: 0.3419 - accuracy: 0.8600 - val_loss: 0.3289 - val_accuracy: 0.8445\n",
            "Epoch 13/100000\n",
            "4/4 [==============================] - 0s 14ms/step - loss: 0.3334 - accuracy: 0.8603 - val_loss: 0.3262 - val_accuracy: 0.8495\n",
            "Epoch 14/100000\n",
            "4/4 [==============================] - 0s 13ms/step - loss: 0.3281 - accuracy: 0.8613 - val_loss: 0.3244 - val_accuracy: 0.8495\n",
            "Epoch 15/100000\n",
            "4/4 [==============================] - 0s 14ms/step - loss: 0.3270 - accuracy: 0.8661 - val_loss: 0.3236 - val_accuracy: 0.8470\n",
            "Epoch 16/100000\n",
            "4/4 [==============================] - 0s 15ms/step - loss: 0.3229 - accuracy: 0.8649 - val_loss: 0.3222 - val_accuracy: 0.8520\n",
            "Epoch 17/100000\n",
            "4/4 [==============================] - 0s 14ms/step - loss: 0.3188 - accuracy: 0.8639 - val_loss: 0.3205 - val_accuracy: 0.8532\n",
            "Epoch 18/100000\n",
            "4/4 [==============================] - 0s 14ms/step - loss: 0.3183 - accuracy: 0.8683 - val_loss: 0.3188 - val_accuracy: 0.8595\n",
            "Epoch 19/100000\n",
            "4/4 [==============================] - 0s 14ms/step - loss: 0.3158 - accuracy: 0.8682 - val_loss: 0.3178 - val_accuracy: 0.8619\n",
            "Epoch 20/100000\n",
            "4/4 [==============================] - 0s 14ms/step - loss: 0.3131 - accuracy: 0.8697 - val_loss: 0.3167 - val_accuracy: 0.8607\n",
            "Epoch 21/100000\n",
            "4/4 [==============================] - 0s 14ms/step - loss: 0.3130 - accuracy: 0.8721 - val_loss: 0.3158 - val_accuracy: 0.8582\n",
            "Epoch 22/100000\n",
            "4/4 [==============================] - 0s 14ms/step - loss: 0.3106 - accuracy: 0.8754 - val_loss: 0.3148 - val_accuracy: 0.8607\n",
            "Epoch 23/100000\n",
            "4/4 [==============================] - 0s 14ms/step - loss: 0.3040 - accuracy: 0.8768 - val_loss: 0.3132 - val_accuracy: 0.8607\n",
            "Epoch 24/100000\n",
            "4/4 [==============================] - 0s 15ms/step - loss: 0.3006 - accuracy: 0.8743 - val_loss: 0.3118 - val_accuracy: 0.8619\n",
            "Epoch 25/100000\n",
            "4/4 [==============================] - 0s 14ms/step - loss: 0.2990 - accuracy: 0.8754 - val_loss: 0.3100 - val_accuracy: 0.8669\n",
            "Epoch 26/100000\n",
            "4/4 [==============================] - 0s 14ms/step - loss: 0.3020 - accuracy: 0.8764 - val_loss: 0.3080 - val_accuracy: 0.8706\n",
            "Epoch 27/100000\n",
            "4/4 [==============================] - 0s 13ms/step - loss: 0.2997 - accuracy: 0.8779 - val_loss: 0.3062 - val_accuracy: 0.8694\n",
            "Epoch 28/100000\n",
            "4/4 [==============================] - 0s 13ms/step - loss: 0.2950 - accuracy: 0.8793 - val_loss: 0.3051 - val_accuracy: 0.8682\n",
            "Epoch 29/100000\n",
            "4/4 [==============================] - 0s 14ms/step - loss: 0.2951 - accuracy: 0.8812 - val_loss: 0.3044 - val_accuracy: 0.8694\n",
            "Epoch 30/100000\n",
            "4/4 [==============================] - 0s 13ms/step - loss: 0.2953 - accuracy: 0.8819 - val_loss: 0.3039 - val_accuracy: 0.8682\n",
            "Epoch 31/100000\n",
            "4/4 [==============================] - 0s 14ms/step - loss: 0.2908 - accuracy: 0.8815 - val_loss: 0.3037 - val_accuracy: 0.8682\n",
            "Epoch 32/100000\n",
            "4/4 [==============================] - 0s 14ms/step - loss: 0.2864 - accuracy: 0.8841 - val_loss: 0.3046 - val_accuracy: 0.8719\n",
            "Epoch 33/100000\n",
            "4/4 [==============================] - 0s 13ms/step - loss: 0.2850 - accuracy: 0.8836 - val_loss: 0.3041 - val_accuracy: 0.8706\n",
            "Epoch 34/100000\n",
            "4/4 [==============================] - 0s 14ms/step - loss: 0.2843 - accuracy: 0.8829 - val_loss: 0.3035 - val_accuracy: 0.8694\n",
            "Epoch 35/100000\n",
            "4/4 [==============================] - 0s 13ms/step - loss: 0.2832 - accuracy: 0.8816 - val_loss: 0.3019 - val_accuracy: 0.8706\n",
            "Epoch 36/100000\n",
            "4/4 [==============================] - 0s 13ms/step - loss: 0.2799 - accuracy: 0.8847 - val_loss: 0.2997 - val_accuracy: 0.8706\n",
            "Epoch 37/100000\n",
            "4/4 [==============================] - 0s 14ms/step - loss: 0.2822 - accuracy: 0.8858 - val_loss: 0.2990 - val_accuracy: 0.8731\n",
            "Epoch 38/100000\n",
            "4/4 [==============================] - 0s 13ms/step - loss: 0.2830 - accuracy: 0.8826 - val_loss: 0.2983 - val_accuracy: 0.8731\n",
            "Epoch 39/100000\n",
            "4/4 [==============================] - 0s 16ms/step - loss: 0.2759 - accuracy: 0.8874 - val_loss: 0.2968 - val_accuracy: 0.8731\n",
            "Epoch 40/100000\n",
            "4/4 [==============================] - 0s 15ms/step - loss: 0.2745 - accuracy: 0.8878 - val_loss: 0.2962 - val_accuracy: 0.8731\n",
            "Epoch 41/100000\n",
            "4/4 [==============================] - 0s 14ms/step - loss: 0.2743 - accuracy: 0.8849 - val_loss: 0.2950 - val_accuracy: 0.8756\n",
            "Epoch 42/100000\n",
            "4/4 [==============================] - 0s 13ms/step - loss: 0.2710 - accuracy: 0.8925 - val_loss: 0.2949 - val_accuracy: 0.8756\n",
            "Epoch 43/100000\n",
            "4/4 [==============================] - 0s 14ms/step - loss: 0.2675 - accuracy: 0.8891 - val_loss: 0.2943 - val_accuracy: 0.8744\n",
            "Epoch 44/100000\n",
            "4/4 [==============================] - 0s 13ms/step - loss: 0.2695 - accuracy: 0.8902 - val_loss: 0.2926 - val_accuracy: 0.8806\n",
            "Epoch 45/100000\n",
            "4/4 [==============================] - 0s 14ms/step - loss: 0.2677 - accuracy: 0.8867 - val_loss: 0.2919 - val_accuracy: 0.8794\n",
            "Epoch 46/100000\n",
            "4/4 [==============================] - 0s 13ms/step - loss: 0.2639 - accuracy: 0.8899 - val_loss: 0.2907 - val_accuracy: 0.8756\n",
            "Epoch 47/100000\n",
            "4/4 [==============================] - 0s 13ms/step - loss: 0.2675 - accuracy: 0.8873 - val_loss: 0.2900 - val_accuracy: 0.8744\n",
            "Epoch 48/100000\n",
            "4/4 [==============================] - 0s 13ms/step - loss: 0.2606 - accuracy: 0.8913 - val_loss: 0.2899 - val_accuracy: 0.8744\n",
            "Epoch 49/100000\n",
            "4/4 [==============================] - 0s 13ms/step - loss: 0.2609 - accuracy: 0.8917 - val_loss: 0.2895 - val_accuracy: 0.8731\n",
            "Epoch 50/100000\n",
            "4/4 [==============================] - 0s 14ms/step - loss: 0.2575 - accuracy: 0.8913 - val_loss: 0.2881 - val_accuracy: 0.8731\n",
            "Epoch 51/100000\n",
            "4/4 [==============================] - 0s 14ms/step - loss: 0.2576 - accuracy: 0.8917 - val_loss: 0.2872 - val_accuracy: 0.8806\n",
            "Epoch 52/100000\n",
            "4/4 [==============================] - 0s 14ms/step - loss: 0.2528 - accuracy: 0.8948 - val_loss: 0.2856 - val_accuracy: 0.8756\n",
            "Epoch 53/100000\n",
            "4/4 [==============================] - 0s 13ms/step - loss: 0.2548 - accuracy: 0.8938 - val_loss: 0.2847 - val_accuracy: 0.8756\n",
            "Epoch 54/100000\n",
            "4/4 [==============================] - 0s 13ms/step - loss: 0.2555 - accuracy: 0.8961 - val_loss: 0.2847 - val_accuracy: 0.8756\n",
            "Epoch 55/100000\n",
            "4/4 [==============================] - 0s 14ms/step - loss: 0.2478 - accuracy: 0.8978 - val_loss: 0.2842 - val_accuracy: 0.8794\n",
            "Epoch 56/100000\n",
            "4/4 [==============================] - 0s 15ms/step - loss: 0.2509 - accuracy: 0.8949 - val_loss: 0.2827 - val_accuracy: 0.8843\n",
            "Epoch 57/100000\n",
            "4/4 [==============================] - 0s 14ms/step - loss: 0.2514 - accuracy: 0.8937 - val_loss: 0.2796 - val_accuracy: 0.8794\n",
            "Epoch 58/100000\n",
            "4/4 [==============================] - 0s 13ms/step - loss: 0.2461 - accuracy: 0.8979 - val_loss: 0.2777 - val_accuracy: 0.8769\n",
            "Epoch 59/100000\n",
            "4/4 [==============================] - 0s 14ms/step - loss: 0.2445 - accuracy: 0.9035 - val_loss: 0.2772 - val_accuracy: 0.8781\n",
            "Epoch 60/100000\n",
            "4/4 [==============================] - 0s 16ms/step - loss: 0.2436 - accuracy: 0.8995 - val_loss: 0.2757 - val_accuracy: 0.8818\n",
            "Epoch 61/100000\n",
            "4/4 [==============================] - 0s 14ms/step - loss: 0.2424 - accuracy: 0.9004 - val_loss: 0.2756 - val_accuracy: 0.8781\n",
            "Epoch 62/100000\n",
            "4/4 [==============================] - 0s 20ms/step - loss: 0.2423 - accuracy: 0.9043 - val_loss: 0.2772 - val_accuracy: 0.8756\n",
            "Epoch 63/100000\n",
            "4/4 [==============================] - 0s 15ms/step - loss: 0.2338 - accuracy: 0.9032 - val_loss: 0.2764 - val_accuracy: 0.8818\n",
            "Epoch 64/100000\n",
            "4/4 [==============================] - 0s 14ms/step - loss: 0.2368 - accuracy: 0.9006 - val_loss: 0.2757 - val_accuracy: 0.8843\n",
            "Epoch 65/100000\n",
            "4/4 [==============================] - 0s 13ms/step - loss: 0.2338 - accuracy: 0.9039 - val_loss: 0.2746 - val_accuracy: 0.8831\n",
            "Epoch 66/100000\n",
            "4/4 [==============================] - 0s 13ms/step - loss: 0.2379 - accuracy: 0.9019 - val_loss: 0.2727 - val_accuracy: 0.8856\n",
            "Epoch 67/100000\n",
            "4/4 [==============================] - 0s 13ms/step - loss: 0.2347 - accuracy: 0.9022 - val_loss: 0.2703 - val_accuracy: 0.8881\n",
            "Epoch 68/100000\n",
            "4/4 [==============================] - 0s 12ms/step - loss: 0.2316 - accuracy: 0.9054 - val_loss: 0.2689 - val_accuracy: 0.8881\n",
            "Epoch 69/100000\n",
            "4/4 [==============================] - 0s 15ms/step - loss: 0.2243 - accuracy: 0.9071 - val_loss: 0.2686 - val_accuracy: 0.8893\n",
            "Epoch 70/100000\n",
            "4/4 [==============================] - 0s 14ms/step - loss: 0.2319 - accuracy: 0.9026 - val_loss: 0.2675 - val_accuracy: 0.8905\n",
            "Epoch 71/100000\n",
            "4/4 [==============================] - 0s 13ms/step - loss: 0.2272 - accuracy: 0.9094 - val_loss: 0.2664 - val_accuracy: 0.8893\n",
            "Epoch 72/100000\n",
            "4/4 [==============================] - 0s 15ms/step - loss: 0.2210 - accuracy: 0.9105 - val_loss: 0.2658 - val_accuracy: 0.8930\n",
            "Epoch 73/100000\n",
            "4/4 [==============================] - 0s 14ms/step - loss: 0.2275 - accuracy: 0.9072 - val_loss: 0.2661 - val_accuracy: 0.8918\n",
            "Epoch 74/100000\n",
            "4/4 [==============================] - 0s 15ms/step - loss: 0.2216 - accuracy: 0.9086 - val_loss: 0.2652 - val_accuracy: 0.8918\n",
            "Epoch 75/100000\n",
            "4/4 [==============================] - 0s 13ms/step - loss: 0.2182 - accuracy: 0.9090 - val_loss: 0.2656 - val_accuracy: 0.8930\n",
            "Epoch 76/100000\n",
            "4/4 [==============================] - 0s 14ms/step - loss: 0.2192 - accuracy: 0.9102 - val_loss: 0.2669 - val_accuracy: 0.8930\n",
            "Epoch 77/100000\n",
            "4/4 [==============================] - 0s 12ms/step - loss: 0.2197 - accuracy: 0.9112 - val_loss: 0.2665 - val_accuracy: 0.8943\n",
            "Epoch 78/100000\n",
            "4/4 [==============================] - 0s 15ms/step - loss: 0.2187 - accuracy: 0.9114 - val_loss: 0.2673 - val_accuracy: 0.8930\n",
            "Epoch 79/100000\n",
            "4/4 [==============================] - 0s 14ms/step - loss: 0.2128 - accuracy: 0.9154 - val_loss: 0.2682 - val_accuracy: 0.8893\n",
            "Epoch 80/100000\n",
            "4/4 [==============================] - 0s 13ms/step - loss: 0.2181 - accuracy: 0.9091 - val_loss: 0.2666 - val_accuracy: 0.8905\n",
            "Epoch 81/100000\n",
            "4/4 [==============================] - 0s 14ms/step - loss: 0.2139 - accuracy: 0.9118 - val_loss: 0.2632 - val_accuracy: 0.8905\n",
            "Epoch 82/100000\n",
            "4/4 [==============================] - 0s 13ms/step - loss: 0.2100 - accuracy: 0.9125 - val_loss: 0.2624 - val_accuracy: 0.8918\n",
            "Epoch 83/100000\n",
            "4/4 [==============================] - 0s 13ms/step - loss: 0.2105 - accuracy: 0.9177 - val_loss: 0.2636 - val_accuracy: 0.8943\n",
            "Epoch 84/100000\n",
            "4/4 [==============================] - 0s 19ms/step - loss: 0.2042 - accuracy: 0.9183 - val_loss: 0.2664 - val_accuracy: 0.8918\n",
            "Epoch 85/100000\n",
            "4/4 [==============================] - 0s 13ms/step - loss: 0.2127 - accuracy: 0.9134 - val_loss: 0.2656 - val_accuracy: 0.8955\n",
            "Epoch 86/100000\n",
            "4/4 [==============================] - 0s 14ms/step - loss: 0.2079 - accuracy: 0.9137 - val_loss: 0.2654 - val_accuracy: 0.8943\n",
            "Epoch 87/100000\n",
            "4/4 [==============================] - 0s 15ms/step - loss: 0.2088 - accuracy: 0.9130 - val_loss: 0.2669 - val_accuracy: 0.8918\n",
            "Epoch 88/100000\n",
            "4/4 [==============================] - 0s 13ms/step - loss: 0.2024 - accuracy: 0.9145 - val_loss: 0.2657 - val_accuracy: 0.8943\n",
            "Epoch 89/100000\n",
            "4/4 [==============================] - 0s 14ms/step - loss: 0.2030 - accuracy: 0.9201 - val_loss: 0.2651 - val_accuracy: 0.8930\n",
            "Epoch 90/100000\n",
            "4/4 [==============================] - 0s 15ms/step - loss: 0.2041 - accuracy: 0.9203 - val_loss: 0.2651 - val_accuracy: 0.8955\n",
            "Epoch 91/100000\n",
            "4/4 [==============================] - 0s 13ms/step - loss: 0.2038 - accuracy: 0.9137 - val_loss: 0.2660 - val_accuracy: 0.8955\n",
            "Epoch 92/100000\n",
            "4/4 [==============================] - 0s 13ms/step - loss: 0.1976 - accuracy: 0.9205 - val_loss: 0.2661 - val_accuracy: 0.8930\n",
            "Epoch 93/100000\n",
            "4/4 [==============================] - 0s 13ms/step - loss: 0.1973 - accuracy: 0.9217 - val_loss: 0.2675 - val_accuracy: 0.8943\n",
            "Epoch 94/100000\n",
            "4/4 [==============================] - 0s 14ms/step - loss: 0.1999 - accuracy: 0.9191 - val_loss: 0.2669 - val_accuracy: 0.8955\n",
            "Epoch 95/100000\n",
            "4/4 [==============================] - 0s 14ms/step - loss: 0.1988 - accuracy: 0.9212 - val_loss: 0.2660 - val_accuracy: 0.8930\n",
            "Epoch 96/100000\n",
            "4/4 [==============================] - 0s 13ms/step - loss: 0.1967 - accuracy: 0.9206 - val_loss: 0.2662 - val_accuracy: 0.8943\n",
            "Epoch 97/100000\n",
            "4/4 [==============================] - 0s 14ms/step - loss: 0.1947 - accuracy: 0.9213 - val_loss: 0.2642 - val_accuracy: 0.8943\n",
            "Epoch 98/100000\n",
            "4/4 [==============================] - 0s 15ms/step - loss: 0.1883 - accuracy: 0.9221 - val_loss: 0.2625 - val_accuracy: 0.8955\n",
            "Epoch 99/100000\n",
            "4/4 [==============================] - 0s 14ms/step - loss: 0.1956 - accuracy: 0.9176 - val_loss: 0.2612 - val_accuracy: 0.8980\n",
            "Epoch 100/100000\n",
            "4/4 [==============================] - 0s 13ms/step - loss: 0.1879 - accuracy: 0.9231 - val_loss: 0.2613 - val_accuracy: 0.8980\n",
            "Epoch 101/100000\n",
            "4/4 [==============================] - 0s 13ms/step - loss: 0.1915 - accuracy: 0.9250 - val_loss: 0.2620 - val_accuracy: 0.8943\n",
            "Epoch 102/100000\n",
            "4/4 [==============================] - 0s 12ms/step - loss: 0.1942 - accuracy: 0.9270 - val_loss: 0.2621 - val_accuracy: 0.8905\n",
            "Epoch 103/100000\n",
            "4/4 [==============================] - 0s 15ms/step - loss: 0.1852 - accuracy: 0.9237 - val_loss: 0.2612 - val_accuracy: 0.8943\n",
            "Epoch 104/100000\n",
            "4/4 [==============================] - 0s 14ms/step - loss: 0.1868 - accuracy: 0.9253 - val_loss: 0.2622 - val_accuracy: 0.8968\n",
            "Epoch 105/100000\n",
            "4/4 [==============================] - 0s 17ms/step - loss: 0.1907 - accuracy: 0.9234 - val_loss: 0.2642 - val_accuracy: 0.8993\n",
            "Epoch 106/100000\n",
            "4/4 [==============================] - 0s 15ms/step - loss: 0.1902 - accuracy: 0.9224 - val_loss: 0.2652 - val_accuracy: 0.8968\n",
            "Epoch 107/100000\n",
            "4/4 [==============================] - 0s 14ms/step - loss: 0.1877 - accuracy: 0.9224 - val_loss: 0.2640 - val_accuracy: 0.8930\n",
            "Epoch 108/100000\n",
            "4/4 [==============================] - 0s 13ms/step - loss: 0.1898 - accuracy: 0.9242 - val_loss: 0.2612 - val_accuracy: 0.8930\n",
            "Epoch 109/100000\n",
            "4/4 [==============================] - 0s 13ms/step - loss: 0.1840 - accuracy: 0.9266 - val_loss: 0.2627 - val_accuracy: 0.8930\n",
            "Epoch 110/100000\n",
            "4/4 [==============================] - 0s 12ms/step - loss: 0.1842 - accuracy: 0.9228 - val_loss: 0.2661 - val_accuracy: 0.8918\n",
            "Epoch 111/100000\n",
            "4/4 [==============================] - 0s 13ms/step - loss: 0.1779 - accuracy: 0.9304 - val_loss: 0.2661 - val_accuracy: 0.8943\n",
            "Epoch 112/100000\n",
            "4/4 [==============================] - 0s 14ms/step - loss: 0.1835 - accuracy: 0.9284 - val_loss: 0.2644 - val_accuracy: 0.8955\n",
            "Epoch 113/100000\n",
            "4/4 [==============================] - 0s 13ms/step - loss: 0.1806 - accuracy: 0.9274 - val_loss: 0.2637 - val_accuracy: 0.8918\n",
            "Epoch 114/100000\n",
            "4/4 [==============================] - 0s 13ms/step - loss: 0.1839 - accuracy: 0.9259 - val_loss: 0.2604 - val_accuracy: 0.8943\n",
            "Epoch 115/100000\n",
            "4/4 [==============================] - 0s 14ms/step - loss: 0.1786 - accuracy: 0.9289 - val_loss: 0.2607 - val_accuracy: 0.8955\n",
            "Epoch 116/100000\n",
            "4/4 [==============================] - 0s 14ms/step - loss: 0.1813 - accuracy: 0.9241 - val_loss: 0.2615 - val_accuracy: 0.8930\n",
            "Epoch 117/100000\n",
            "4/4 [==============================] - 0s 14ms/step - loss: 0.1805 - accuracy: 0.9260 - val_loss: 0.2604 - val_accuracy: 0.8955\n",
            "Epoch 118/100000\n",
            "4/4 [==============================] - 0s 15ms/step - loss: 0.1740 - accuracy: 0.9311 - val_loss: 0.2633 - val_accuracy: 0.9005\n",
            "Epoch 119/100000\n",
            "4/4 [==============================] - 0s 13ms/step - loss: 0.1700 - accuracy: 0.9303 - val_loss: 0.2668 - val_accuracy: 0.9005\n",
            "Epoch 120/100000\n",
            "4/4 [==============================] - 0s 13ms/step - loss: 0.1693 - accuracy: 0.9307 - val_loss: 0.2649 - val_accuracy: 0.8968\n",
            "Epoch 121/100000\n",
            "4/4 [==============================] - 0s 13ms/step - loss: 0.1747 - accuracy: 0.9320 - val_loss: 0.2638 - val_accuracy: 0.8980\n",
            "Epoch 122/100000\n",
            "4/4 [==============================] - 0s 18ms/step - loss: 0.1706 - accuracy: 0.9324 - val_loss: 0.2631 - val_accuracy: 0.8968\n",
            "Epoch 123/100000\n",
            "4/4 [==============================] - 0s 14ms/step - loss: 0.1720 - accuracy: 0.9307 - val_loss: 0.2685 - val_accuracy: 0.8968\n",
            "Epoch 124/100000\n",
            "4/4 [==============================] - 0s 14ms/step - loss: 0.1662 - accuracy: 0.9322 - val_loss: 0.2668 - val_accuracy: 0.8968\n",
            "Epoch 125/100000\n",
            "4/4 [==============================] - 0s 13ms/step - loss: 0.1666 - accuracy: 0.9331 - val_loss: 0.2644 - val_accuracy: 0.8955\n",
            "Epoch 126/100000\n",
            "4/4 [==============================] - 0s 18ms/step - loss: 0.1682 - accuracy: 0.9351 - val_loss: 0.2680 - val_accuracy: 0.8943\n",
            "Epoch 127/100000\n",
            "4/4 [==============================] - 0s 15ms/step - loss: 0.1734 - accuracy: 0.9292 - val_loss: 0.2740 - val_accuracy: 0.9017\n",
            "Epoch 128/100000\n",
            "4/4 [==============================] - 0s 13ms/step - loss: 0.1711 - accuracy: 0.9313 - val_loss: 0.2721 - val_accuracy: 0.9017\n",
            "Epoch 129/100000\n",
            "4/4 [==============================] - 0s 13ms/step - loss: 0.1647 - accuracy: 0.9344 - val_loss: 0.2690 - val_accuracy: 0.9005\n",
            "Epoch 130/100000\n",
            "4/4 [==============================] - 0s 14ms/step - loss: 0.1704 - accuracy: 0.9322 - val_loss: 0.2699 - val_accuracy: 0.8955\n",
            "Epoch 131/100000\n",
            "4/4 [==============================] - 0s 14ms/step - loss: 0.1674 - accuracy: 0.9338 - val_loss: 0.2712 - val_accuracy: 0.8980\n",
            "Epoch 132/100000\n",
            "4/4 [==============================] - 0s 13ms/step - loss: 0.1672 - accuracy: 0.9331 - val_loss: 0.2668 - val_accuracy: 0.8955\n",
            "Epoch 133/100000\n",
            "4/4 [==============================] - 0s 14ms/step - loss: 0.1621 - accuracy: 0.9353 - val_loss: 0.2664 - val_accuracy: 0.8993\n",
            "Epoch 134/100000\n",
            "4/4 [==============================] - 0s 15ms/step - loss: 0.1630 - accuracy: 0.9365 - val_loss: 0.2669 - val_accuracy: 0.8993\n",
            "Epoch 135/100000\n",
            "4/4 [==============================] - 0s 15ms/step - loss: 0.1645 - accuracy: 0.9325 - val_loss: 0.2668 - val_accuracy: 0.8980\n",
            "Epoch 136/100000\n",
            "4/4 [==============================] - 0s 14ms/step - loss: 0.1656 - accuracy: 0.9322 - val_loss: 0.2657 - val_accuracy: 0.9017\n",
            "Epoch 137/100000\n",
            "4/4 [==============================] - 0s 14ms/step - loss: 0.1594 - accuracy: 0.9344 - val_loss: 0.2647 - val_accuracy: 0.8980\n",
            "Epoch 138/100000\n",
            "4/4 [==============================] - 0s 14ms/step - loss: 0.1602 - accuracy: 0.9362 - val_loss: 0.2663 - val_accuracy: 0.9005\n",
            "Epoch 139/100000\n",
            "4/4 [==============================] - 0s 13ms/step - loss: 0.1664 - accuracy: 0.9342 - val_loss: 0.2678 - val_accuracy: 0.8968\n",
            "Epoch 140/100000\n",
            "4/4 [==============================] - 0s 13ms/step - loss: 0.1634 - accuracy: 0.9325 - val_loss: 0.2672 - val_accuracy: 0.8968\n",
            "Epoch 141/100000\n",
            "4/4 [==============================] - 0s 13ms/step - loss: 0.1581 - accuracy: 0.9372 - val_loss: 0.2692 - val_accuracy: 0.8943\n",
            "Epoch 142/100000\n",
            "4/4 [==============================] - 0s 14ms/step - loss: 0.1581 - accuracy: 0.9342 - val_loss: 0.2694 - val_accuracy: 0.8980\n",
            "Epoch 143/100000\n",
            "4/4 [==============================] - 0s 13ms/step - loss: 0.1576 - accuracy: 0.9361 - val_loss: 0.2732 - val_accuracy: 0.8955\n",
            "Epoch 144/100000\n",
            "4/4 [==============================] - 0s 15ms/step - loss: 0.1577 - accuracy: 0.9358 - val_loss: 0.2721 - val_accuracy: 0.8968\n",
            "Epoch 145/100000\n",
            "4/4 [==============================] - 0s 14ms/step - loss: 0.1553 - accuracy: 0.9353 - val_loss: 0.2693 - val_accuracy: 0.8980\n",
            "Epoch 146/100000\n",
            "4/4 [==============================] - 0s 17ms/step - loss: 0.1531 - accuracy: 0.9386 - val_loss: 0.2674 - val_accuracy: 0.8993\n",
            "Epoch 147/100000\n",
            "4/4 [==============================] - 0s 16ms/step - loss: 0.1587 - accuracy: 0.9365 - val_loss: 0.2684 - val_accuracy: 0.8918\n"
          ]
        }
      ],
      "source": [
        "# now we just update our model fit call\n",
        "history = model.fit(X_train,\n",
        "                    y_train,\n",
        "                    callbacks=[es],\n",
        "                    epochs=100000, # you can set this to a big number!\n",
        "                    batch_size=256*2*2*2,\n",
        "                    validation_data=(X_test,y_test),\n",
        "                    shuffle=True,\n",
        "                    verbose=1)"
      ]
    },
    {
      "cell_type": "markdown",
      "metadata": {
        "id": "Ustm8q5sTWGe"
      },
      "source": [
        "## Evaluating the Model\n",
        "Evaluate the model using learning curves, error metrics and confusion matrices for each partition (like we do in class). You should largely be able to copy and paste this from class notebooks. Add a few bullet points about what you see (did your model learn nice and gently?  If you don't have text cells here, you will lose points.\n"
      ]
    },
    {
      "cell_type": "code",
      "execution_count": 40,
      "metadata": {
        "colab": {
          "base_uri": "https://localhost:8080/",
          "height": 927
        },
        "id": "5-E3tvfh1gnW",
        "outputId": "484e072f-cda0-4c6c-d8db-a1290ec8f03a"
      },
      "outputs": [
        {
          "data": {
            "image/png": "[encoded data removed]",
            "text/plain": [
              "<Figure size 432x288 with 1 Axes>"
            ]
          },
          "metadata": {
            "needs_background": "light"
          },
          "output_type": "display_data"
        },
        {
          "data": {
            "image/png": "[encoded data removed]",
            "text/plain": [
              "<Figure size 432x288 with 1 Axes>"
            ]
          },
          "metadata": {
            "needs_background": "light"
          },
          "output_type": "display_data"
        }
      ],
      "source": [
        "# learning curve\n",
        "\n",
        "# accuracy\n",
        "acc = history.history['accuracy']\n",
        "val_acc = history.history['val_accuracy']\n",
        "\n",
        "\n",
        "epochs = range(1, len(acc) + 1)\n",
        "\n",
        "# \"bo\" is for \"blue dot\"\n",
        "plt.plot(epochs, acc, 'bo', label='Training accuracy')\n",
        "# b is for \"solid blue line\"\n",
        "plt.plot(epochs, val_acc, 'b', label='Validation accuracy')\n",
        "plt.title('Training and validation accuracy')\n",
        "plt.xlabel('Epochs')\n",
        "plt.ylabel('Accuracy')\n",
        "plt.legend()\n",
        "\n",
        "plt.show()\n",
        "\n",
        "#loss\n",
        "loss = history.history['loss']\n",
        "val_loss = history.history['val_loss']\n",
        "\n",
        "epochs = range(1, len(acc) + 1)\n",
        "\n",
        "# \"bo\" is for \"blue dot\"\n",
        "plt.plot(epochs, loss, 'bo', label='Training loss')\n",
        "# b is for \"solid blue line\"\n",
        "plt.plot(epochs, val_loss, 'b', label='Validation loss')\n",
        "plt.title('Training and validation loss')\n",
        "plt.xlabel('Epochs')\n",
        "plt.ylabel('Loss')\n",
        "plt.legend()\n",
        "\n",
        "plt.show()"
      ]
    },
    {
      "cell_type": "markdown",
      "metadata": {
        "id": "FaxFR2whtNfV"
      },
      "source": [
        "We can see in the learning curves that the model has pretty quickly learnt the pattern and loss has been reduced and accuracy has increased sharply.\n",
        "\n",
        "We can see from the confusion matrix that it has performed well on the train dataset achieving 0.95 F1 score. It also performs better on the test dataset with F1 score of 90. We have taken care of overfitting by dropout methods and it can be seen from F1 score of the train data that it has not overfit and predicts pretty good on test data. That being said, the accuracy on train is more than test, and also the loss on train is lesser than the test data."
      ]
    },
    {
      "cell_type": "markdown",
      "metadata": {
        "id": "OUSE2ETMTYWt"
      },
      "source": [
        "## Baseline Model and  Classification Report\n",
        "Calculate what a baseline prediction would be for the train and test partitions (a mean only model). Did your model do better than the baseline predictions? If so, you have a useful model!"
      ]
    },
    {
      "cell_type": "code",
      "execution_count": 41,
      "metadata": {
        "colab": {
          "base_uri": "https://localhost:8080/"
        },
        "id": "4P_9_y6n10J4",
        "outputId": "cf985950-e044-4b44-b5de-45c50c30b084"
      },
      "outputs": [
        {
          "name": "stdout",
          "output_type": "stream",
          "text": [
            "Baseline prediction for train:/n 0.5462591619416401\n",
            "Baseline prediction for test:/n 0.5462591619416401\n"
          ]
        }
      ],
      "source": [
        "#Base line prediction for train\n",
        "y_train=pd.DataFrame(y_train)\n",
        "count_train=y_train.value_counts()\n",
        "\n",
        "baseline_pred_train=count_train[0]/(count_train[0]+count_train[1])\n",
        "print('Baseline prediction for train:/n', baseline_pred_train)\n",
        "\n",
        "#Base line prediction for test\n",
        "y_test=pd.DataFrame(y_test)\n",
        "count_test=y_test.value_counts()\n",
        "\n",
        "baseline_pred_test=count_train[0]/(count_train[0]+count_train[1])\n",
        "print('Baseline prediction for test:/n', baseline_pred_test)"
      ]
    },
    {
      "cell_type": "code",
      "execution_count": 42,
      "metadata": {
        "colab": {
          "base_uri": "https://localhost:8080/"
        },
        "id": "KwzmOvMG5mBh",
        "outputId": "a2b39e7d-3508-4c3a-814a-730040c9b849"
      },
      "outputs": [
        {
          "name": "stdout",
          "output_type": "stream",
          "text": [
            "226/226 [==============================] - 0s 770us/step\n"
          ]
        },
        {
          "data": {
            "text/plain": [
              "array([[3773,  177],\n",
              "       [ 158, 3123]], dtype=int64)"
            ]
          },
          "execution_count": 42,
          "metadata": {},
          "output_type": "execute_result"
        }
      ],
      "source": [
        "## seeing how the model did! on train\n",
        "preds_train = np.round(model.predict(X_train),0)\n",
        "\n",
        "matrix = confusion_matrix(y_train,preds_train)\n",
        "matrix"
      ]
    },
    {
      "cell_type": "code",
      "execution_count": 43,
      "metadata": {
        "colab": {
          "base_uri": "https://localhost:8080/"
        },
        "id": "WiKXmmppJHyC",
        "outputId": "58d39544-f4a7-4d9b-e36b-45c601d1fa8c"
      },
      "outputs": [
        {
          "name": "stdout",
          "output_type": "stream",
          "text": [
            "26/26 [==============================] - 0s 771us/step\n"
          ]
        },
        {
          "data": {
            "text/plain": [
              "array([[416,  33],\n",
              "       [ 46, 309]], dtype=int64)"
            ]
          },
          "execution_count": 43,
          "metadata": {},
          "output_type": "execute_result"
        }
      ],
      "source": [
        "## seeing how the model did! on test\n",
        "preds_test = np.round(model.predict(X_test),0)\n",
        "\n",
        "matrix = confusion_matrix(y_test,preds_test)\n",
        "matrix"
      ]
    },
    {
      "cell_type": "code",
      "execution_count": 44,
      "metadata": {
        "colab": {
          "base_uri": "https://localhost:8080/"
        },
        "id": "VCvKiadNZ9Hq",
        "outputId": "65507d4d-1f1b-45a0-a11d-b562e704c90c"
      },
      "outputs": [
        {
          "name": "stdout",
          "output_type": "stream",
          "text": [
            "Classification Report on Train:\n",
            "               precision    recall  f1-score   support\n",
            "\n",
            "           0       0.96      0.96      0.96      3950\n",
            "           1       0.95      0.95      0.95      3281\n",
            "\n",
            "    accuracy                           0.95      7231\n",
            "   macro avg       0.95      0.95      0.95      7231\n",
            "weighted avg       0.95      0.95      0.95      7231\n",
            "\n",
            "Classification Report on Test:\n",
            "               precision    recall  f1-score   support\n",
            "\n",
            "           0       0.90      0.93      0.91       449\n",
            "           1       0.90      0.87      0.89       355\n",
            "\n",
            "    accuracy                           0.90       804\n",
            "   macro avg       0.90      0.90      0.90       804\n",
            "weighted avg       0.90      0.90      0.90       804\n",
            "\n"
          ]
        }
      ],
      "source": [
        "#Printing the classification report on the train  data\n",
        "print('Classification Report on Train:\\n',classification_report(y_train , preds_train))\n",
        "\n",
        "#Printing the classification report on the test data\n",
        "print('Classification Report on Test:\\n',classification_report(y_test, preds_test))"
      ]
    },
    {
      "cell_type": "markdown",
      "metadata": {
        "id": "PeWyuww4UnDc"
      },
      "source": [
        "## Conclusion/Insights\n",
        "\n",
        "Extending the insgihts from model evaluation, following are some thoughts about this exercise:\n",
        "\n",
        "1. After comparing the models (with same parameters; another model run in appendix below which did not include Pctl metric), It was observed that the first model (where the correlated features where present) had a tendency to overfit the train data (as the network got comple with more layers and units). The later model (where correlated features where removed), it gave pretty consistant performance of predicting train and test with similar numbers. The overfitting was not observed in later model (run in the appendix at the end).\n",
        "\n",
        "2. Also, it was observed that more the comlex model is (with more layers and units with dropouts), better was the performance of predictions in train and to some extent in test data.\n",
        "\n",
        "3. Compared to the baseline model, the F1 score of the model is 90 on test data. We can safely conclude that model performs better and has recognized patterns in the data to predict values.\n",
        "\n",
        "4. In both the models (above and in the appendix), the validation accuracy is less than the training. Also, the validation loss is more (as in the loss number) than the training data.\n",
        "\n",
        "5. The first model (where correlated features such as Pctl is present) has 36 total number of features. Whereas, after removing the correlated features (for which count is 17), the total number of feature in model_2 are 19. This might explain the consistency of the model between the train and test data. In that, the model is not fed with lot of noise. "
      ]
    },
    {
      "cell_type": "markdown",
      "metadata": {
        "id": "ZZRnYEeZ6RNR"
      },
      "source": [
        "## **Appendix (Other model)**\n",
        "\n",
        "Checking the same model performance when we get rid of the similar metric called Pctl against some of the features."
      ]
    },
    {
      "cell_type": "code",
      "execution_count": 45,
      "metadata": {
        "colab": {
          "base_uri": "https://localhost:8080/",
          "height": 261
        },
        "id": "p87N4ssT6Vbi",
        "outputId": "812d909d-25c2-4950-95c0-de820cf6c754"
      },
      "outputs": [
        {
          "data": {
            "text/html": [
              "<div>\n",
              "<style scoped>\n",
              "    .dataframe tbody tr th:only-of-type {\n",
              "        vertical-align: middle;\n",
              "    }\n",
              "\n",
              "    .dataframe tbody tr th {\n",
              "        vertical-align: top;\n",
              "    }\n",
              "\n",
              "    .dataframe thead th {\n",
              "        text-align: right;\n",
              "    }\n",
              "</style>\n",
              "<table border=\"1\" class=\"dataframe\">\n",
              "  <thead>\n",
              "    <tr style=\"text-align: right;\">\n",
              "      <th></th>\n",
              "      <th>Total Population</th>\n",
              "      <th>Ozone</th>\n",
              "      <th>PM2.5</th>\n",
              "      <th>Diesel PM</th>\n",
              "      <th>Drinking Water</th>\n",
              "      <th>Pesticides</th>\n",
              "      <th>Tox. Release</th>\n",
              "      <th>Traffic</th>\n",
              "      <th>Cleanup Sites</th>\n",
              "      <th>Groundwater Threats</th>\n",
              "      <th>Haz. Waste</th>\n",
              "      <th>Imp. Water Bodies</th>\n",
              "      <th>Solid Waste</th>\n",
              "      <th>CES 3.0 Score</th>\n",
              "      <th>Asthma</th>\n",
              "      <th>Low Birth Weight</th>\n",
              "      <th>Cardiovascular Disease</th>\n",
              "      <th>Education</th>\n",
              "      <th>Linguistic Isolation</th>\n",
              "    </tr>\n",
              "  </thead>\n",
              "  <tbody>\n",
              "    <tr>\n",
              "      <th>7641</th>\n",
              "      <td>3912</td>\n",
              "      <td>0.037785</td>\n",
              "      <td>10.370000</td>\n",
              "      <td>14.420000</td>\n",
              "      <td>479.227886</td>\n",
              "      <td>0.000000</td>\n",
              "      <td>83.228202</td>\n",
              "      <td>706.93</td>\n",
              "      <td>0.00</td>\n",
              "      <td>15.00</td>\n",
              "      <td>0.00</td>\n",
              "      <td>0</td>\n",
              "      <td>0.00</td>\n",
              "      <td>5.367212</td>\n",
              "      <td>30.41</td>\n",
              "      <td>3.21</td>\n",
              "      <td>5.57</td>\n",
              "      <td>6.5</td>\n",
              "      <td>0.8</td>\n",
              "    </tr>\n",
              "    <tr>\n",
              "      <th>1704</th>\n",
              "      <td>4458</td>\n",
              "      <td>0.044312</td>\n",
              "      <td>12.050000</td>\n",
              "      <td>21.653893</td>\n",
              "      <td>534.612009</td>\n",
              "      <td>0.000000</td>\n",
              "      <td>6522.998712</td>\n",
              "      <td>757.23</td>\n",
              "      <td>4.30</td>\n",
              "      <td>5.00</td>\n",
              "      <td>0.00</td>\n",
              "      <td>0</td>\n",
              "      <td>0.00</td>\n",
              "      <td>41.806554</td>\n",
              "      <td>46.23</td>\n",
              "      <td>5.49</td>\n",
              "      <td>11.83</td>\n",
              "      <td>53.1</td>\n",
              "      <td>36.2</td>\n",
              "    </tr>\n",
              "    <tr>\n",
              "      <th>2165</th>\n",
              "      <td>3249</td>\n",
              "      <td>0.047908</td>\n",
              "      <td>8.697944</td>\n",
              "      <td>15.722036</td>\n",
              "      <td>659.328132</td>\n",
              "      <td>0.012446</td>\n",
              "      <td>0.338524</td>\n",
              "      <td>485.85</td>\n",
              "      <td>13.40</td>\n",
              "      <td>24.85</td>\n",
              "      <td>0.05</td>\n",
              "      <td>8</td>\n",
              "      <td>0.00</td>\n",
              "      <td>37.644179</td>\n",
              "      <td>40.59</td>\n",
              "      <td>5.31</td>\n",
              "      <td>12.26</td>\n",
              "      <td>28.9</td>\n",
              "      <td>6.3</td>\n",
              "    </tr>\n",
              "    <tr>\n",
              "      <th>1116</th>\n",
              "      <td>3095</td>\n",
              "      <td>0.046178</td>\n",
              "      <td>12.890000</td>\n",
              "      <td>41.190000</td>\n",
              "      <td>664.069078</td>\n",
              "      <td>0.000000</td>\n",
              "      <td>3788.767788</td>\n",
              "      <td>1362.73</td>\n",
              "      <td>0.20</td>\n",
              "      <td>0.00</td>\n",
              "      <td>0.25</td>\n",
              "      <td>0</td>\n",
              "      <td>0.00</td>\n",
              "      <td>47.372505</td>\n",
              "      <td>58.23</td>\n",
              "      <td>8.62</td>\n",
              "      <td>8.67</td>\n",
              "      <td>5.0</td>\n",
              "      <td>16.8</td>\n",
              "    </tr>\n",
              "    <tr>\n",
              "      <th>4092</th>\n",
              "      <td>4483</td>\n",
              "      <td>0.046178</td>\n",
              "      <td>12.050000</td>\n",
              "      <td>23.588440</td>\n",
              "      <td>307.714662</td>\n",
              "      <td>0.000000</td>\n",
              "      <td>1418.918694</td>\n",
              "      <td>951.05</td>\n",
              "      <td>12.15</td>\n",
              "      <td>13.20</td>\n",
              "      <td>0.17</td>\n",
              "      <td>5</td>\n",
              "      <td>1.95</td>\n",
              "      <td>24.273914</td>\n",
              "      <td>33.74</td>\n",
              "      <td>5.49</td>\n",
              "      <td>6.14</td>\n",
              "      <td>1.8</td>\n",
              "      <td>2.5</td>\n",
              "    </tr>\n",
              "  </tbody>\n",
              "</table>\n",
              "</div>"
            ],
            "text/plain": [
              "      Total Population     Ozone      PM2.5  Diesel PM  Drinking Water  \\\n",
              "7641              3912  0.037785  10.370000  14.420000      479.227886   \n",
              "1704              4458  0.044312  12.050000  21.653893      534.612009   \n",
              "2165              3249  0.047908   8.697944  15.722036      659.328132   \n",
              "1116              3095  0.046178  12.890000  41.190000      664.069078   \n",
              "4092              4483  0.046178  12.050000  23.588440      307.714662   \n",
              "\n",
              "      Pesticides  Tox. Release  Traffic  Cleanup Sites  Groundwater Threats  \\\n",
              "7641    0.000000     83.228202   706.93           0.00                15.00   \n",
              "1704    0.000000   6522.998712   757.23           4.30                 5.00   \n",
              "2165    0.012446      0.338524   485.85          13.40                24.85   \n",
              "1116    0.000000   3788.767788  1362.73           0.20                 0.00   \n",
              "4092    0.000000   1418.918694   951.05          12.15                13.20   \n",
              "\n",
              "      Haz. Waste  Imp. Water Bodies  Solid Waste  CES 3.0 Score  Asthma  \\\n",
              "7641        0.00                  0         0.00       5.367212   30.41   \n",
              "1704        0.00                  0         0.00      41.806554   46.23   \n",
              "2165        0.05                  8         0.00      37.644179   40.59   \n",
              "1116        0.25                  0         0.00      47.372505   58.23   \n",
              "4092        0.17                  5         1.95      24.273914   33.74   \n",
              "\n",
              "      Low Birth Weight  Cardiovascular Disease  Education  \\\n",
              "7641              3.21                    5.57        6.5   \n",
              "1704              5.49                   11.83       53.1   \n",
              "2165              5.31                   12.26       28.9   \n",
              "1116              8.62                    8.67        5.0   \n",
              "4092              5.49                    6.14        1.8   \n",
              "\n",
              "      Linguistic Isolation  \n",
              "7641                   0.8  \n",
              "1704                  36.2  \n",
              "2165                   6.3  \n",
              "1116                  16.8  \n",
              "4092                   2.5  "
            ]
          },
          "execution_count": 45,
          "metadata": {},
          "output_type": "execute_result"
        }
      ],
      "source": [
        "#selecting columnns without Pctl metric\n",
        "X_columns_wo_Pctl = [col for col in X.columns if \"Pctl\" not in col]\n",
        "X2_train=X2_train[X_columns_wo_Pctl]\n",
        "X2_test=X2_test[X_columns_wo_Pctl]\n",
        "#lets view the 5 records\n",
        "X2_train.head(5)"
      ]
    },
    {
      "cell_type": "markdown",
      "metadata": {
        "id": "ic72J5pf6Vbk"
      },
      "source": [
        "### Scaling\n",
        "Use the StandardScaler() on train and apply to test partition. Do not scale the target variable!\n"
      ]
    },
    {
      "cell_type": "code",
      "execution_count": 46,
      "metadata": {
        "id": "5Q8AVlIE6Vbk"
      },
      "outputs": [],
      "source": [
        "standard_scaler = StandardScaler()\n",
        "X2_train = standard_scaler.fit_transform(X2_train)\n",
        "X2_test = standard_scaler.transform(X2_test)"
      ]
    },
    {
      "cell_type": "markdown",
      "metadata": {
        "id": "48J2uPMF6Vbk"
      },
      "source": [
        "### Build and Compile the Model\n",
        "Build a model using the Sequential API (like we do in class) with at least 2 dense layers with the relu activation function, and with dropout in between each dense layer (use a number between 0.1 and 0.5). Compile the model using an appropriate optimizer. Use early stopping with patience of at least 10 and restore the best weights once the model converges. You can choose whatever batch size you would like to."
      ]
    },
    {
      "cell_type": "code",
      "execution_count": 47,
      "metadata": {
        "colab": {
          "base_uri": "https://localhost:8080/"
        },
        "id": "HVeuWawX6Vbk",
        "outputId": "730b05a5-f7fe-4ca9-d1d0-44a5d8e159a9"
      },
      "outputs": [
        {
          "data": {
            "text/plain": [
              "19"
            ]
          },
          "execution_count": 47,
          "metadata": {},
          "output_type": "execute_result"
        }
      ],
      "source": [
        "X2_train.shape[1]"
      ]
    },
    {
      "cell_type": "code",
      "execution_count": 48,
      "metadata": {
        "colab": {
          "base_uri": "https://localhost:8080/"
        },
        "id": "AqaD-ZT86Vbk",
        "outputId": "a3e8c272-8343-4ae4-c78f-d15fc1bd130b"
      },
      "outputs": [
        {
          "name": "stdout",
          "output_type": "stream",
          "text": [
            "Model: \"sequential_1\"\n",
            "_________________________________________________________________\n",
            " Layer (type)                Output Shape              Param #   \n",
            "=================================================================\n",
            " dense_4 (Dense)             (None, 128)               2560      \n",
            "                                                                 \n",
            " dropout_3 (Dropout)         (None, 128)               0         \n",
            "                                                                 \n",
            " dense_5 (Dense)             (None, 64)                8256      \n",
            "                                                                 \n",
            " dropout_4 (Dropout)         (None, 64)                0         \n",
            "                                                                 \n",
            " dense_6 (Dense)             (None, 32)                2080      \n",
            "                                                                 \n",
            " dropout_5 (Dropout)         (None, 32)                0         \n",
            "                                                                 \n",
            " dense_7 (Dense)             (None, 1)                 33        \n",
            "                                                                 \n",
            "=================================================================\n",
            "Total params: 12929 (50.50 KB)\n",
            "Trainable params: 12929 (50.50 KB)\n",
            "Non-trainable params: 0 (0.00 Byte)\n",
            "_________________________________________________________________\n"
          ]
        }
      ],
      "source": [
        "model_2 = Sequential()\n",
        "model_2.add(Dense(128, input_shape=(X2_train.shape[1],), activation='relu')) # (features,)\n",
        "model_2.add(Dropout(0.15)) # specify a percentage between 0 and 0.5\n",
        "model_2.add(Dense(64, activation='relu')) # output node\n",
        "model_2.add(Dropout(0.2)) # specify a percentage between 0 and 0.5\n",
        "model_2.add(Dense(32, activation='relu')) # output node\n",
        "model_2.add(Dropout(0.2)) # specify a percentage between 0 and 0.5\n",
        "model_2.add(Dense(1, activation='sigmoid')) # output node\n",
        "model_2.summary() # see what your model looks like\n"
      ]
    },
    {
      "cell_type": "code",
      "execution_count": 49,
      "metadata": {
        "id": "fqJaZMq96Vbk"
      },
      "outputs": [],
      "source": [
        "# compile the model\n",
        "model_2.compile(optimizer='adam',\n",
        "              loss='binary_crossentropy',\n",
        "              metrics=['accuracy'])"
      ]
    },
    {
      "cell_type": "markdown",
      "metadata": {
        "id": "ox5gVH0s6Vbk"
      },
      "source": [
        "### Fitting the Model\n",
        "Fit the model for 100000 epochs with a batch size of your choice, using X_test and y_test as the validation data. **Don’t forget the early stopping callback!**"
      ]
    },
    {
      "cell_type": "code",
      "execution_count": 50,
      "metadata": {
        "colab": {
          "base_uri": "https://localhost:8080/"
        },
        "id": "1EDMj5016Vbk",
        "outputId": "7ba07f3b-d4b9-4882-a681-bcc0d85e538c"
      },
      "outputs": [
        {
          "name": "stdout",
          "output_type": "stream",
          "text": [
            "Epoch 1/100000\n",
            "4/4 [==============================] - 1s 47ms/step - loss: 0.6413 - accuracy: 0.6616 - val_loss: 0.5845 - val_accuracy: 0.7600\n",
            "Epoch 2/100000\n",
            "4/4 [==============================] - 0s 13ms/step - loss: 0.5714 - accuracy: 0.7574 - val_loss: 0.5236 - val_accuracy: 0.7836\n",
            "Epoch 3/100000\n",
            "4/4 [==============================] - 0s 13ms/step - loss: 0.5124 - accuracy: 0.7948 - val_loss: 0.4709 - val_accuracy: 0.8022\n",
            "Epoch 4/100000\n",
            "4/4 [==============================] - 0s 13ms/step - loss: 0.4592 - accuracy: 0.8155 - val_loss: 0.4282 - val_accuracy: 0.8122\n",
            "Epoch 5/100000\n",
            "4/4 [==============================] - 0s 13ms/step - loss: 0.4247 - accuracy: 0.8219 - val_loss: 0.3971 - val_accuracy: 0.8197\n",
            "Epoch 6/100000\n",
            "4/4 [==============================] - 0s 13ms/step - loss: 0.3989 - accuracy: 0.8329 - val_loss: 0.3753 - val_accuracy: 0.8246\n",
            "Epoch 7/100000\n",
            "4/4 [==============================] - 0s 13ms/step - loss: 0.3819 - accuracy: 0.8368 - val_loss: 0.3591 - val_accuracy: 0.8321\n",
            "Epoch 8/100000\n",
            "4/4 [==============================] - 0s 13ms/step - loss: 0.3712 - accuracy: 0.8441 - val_loss: 0.3470 - val_accuracy: 0.8445\n",
            "Epoch 9/100000\n",
            "4/4 [==============================] - 0s 13ms/step - loss: 0.3589 - accuracy: 0.8524 - val_loss: 0.3392 - val_accuracy: 0.8545\n",
            "Epoch 10/100000\n",
            "4/4 [==============================] - 0s 14ms/step - loss: 0.3549 - accuracy: 0.8491 - val_loss: 0.3350 - val_accuracy: 0.8557\n",
            "Epoch 11/100000\n",
            "4/4 [==============================] - 0s 13ms/step - loss: 0.3468 - accuracy: 0.8523 - val_loss: 0.3332 - val_accuracy: 0.8619\n",
            "Epoch 12/100000\n",
            "4/4 [==============================] - 0s 14ms/step - loss: 0.3447 - accuracy: 0.8558 - val_loss: 0.3332 - val_accuracy: 0.8595\n",
            "Epoch 13/100000\n",
            "4/4 [==============================] - 0s 13ms/step - loss: 0.3360 - accuracy: 0.8589 - val_loss: 0.3336 - val_accuracy: 0.8545\n",
            "Epoch 14/100000\n",
            "4/4 [==============================] - 0s 13ms/step - loss: 0.3339 - accuracy: 0.8614 - val_loss: 0.3335 - val_accuracy: 0.8582\n",
            "Epoch 15/100000\n",
            "4/4 [==============================] - 0s 14ms/step - loss: 0.3329 - accuracy: 0.8594 - val_loss: 0.3329 - val_accuracy: 0.8557\n",
            "Epoch 16/100000\n",
            "4/4 [==============================] - 0s 15ms/step - loss: 0.3295 - accuracy: 0.8599 - val_loss: 0.3321 - val_accuracy: 0.8532\n",
            "Epoch 17/100000\n",
            "4/4 [==============================] - 0s 13ms/step - loss: 0.3253 - accuracy: 0.8635 - val_loss: 0.3304 - val_accuracy: 0.8532\n",
            "Epoch 18/100000\n",
            "4/4 [==============================] - 0s 13ms/step - loss: 0.3210 - accuracy: 0.8653 - val_loss: 0.3285 - val_accuracy: 0.8507\n",
            "Epoch 19/100000\n",
            "4/4 [==============================] - 0s 15ms/step - loss: 0.3196 - accuracy: 0.8654 - val_loss: 0.3272 - val_accuracy: 0.8557\n",
            "Epoch 20/100000\n",
            "4/4 [==============================] - 0s 13ms/step - loss: 0.3159 - accuracy: 0.8678 - val_loss: 0.3263 - val_accuracy: 0.8570\n",
            "Epoch 21/100000\n",
            "4/4 [==============================] - 0s 13ms/step - loss: 0.3156 - accuracy: 0.8708 - val_loss: 0.3259 - val_accuracy: 0.8582\n",
            "Epoch 22/100000\n",
            "4/4 [==============================] - 0s 13ms/step - loss: 0.3133 - accuracy: 0.8689 - val_loss: 0.3256 - val_accuracy: 0.8607\n",
            "Epoch 23/100000\n",
            "4/4 [==============================] - 0s 14ms/step - loss: 0.3134 - accuracy: 0.8678 - val_loss: 0.3260 - val_accuracy: 0.8557\n",
            "Epoch 24/100000\n",
            "4/4 [==============================] - 0s 18ms/step - loss: 0.3089 - accuracy: 0.8715 - val_loss: 0.3256 - val_accuracy: 0.8545\n",
            "Epoch 25/100000\n",
            "4/4 [==============================] - 0s 14ms/step - loss: 0.3084 - accuracy: 0.8717 - val_loss: 0.3253 - val_accuracy: 0.8545\n",
            "Epoch 26/100000\n",
            "4/4 [==============================] - 0s 14ms/step - loss: 0.3060 - accuracy: 0.8710 - val_loss: 0.3253 - val_accuracy: 0.8545\n",
            "Epoch 27/100000\n",
            "4/4 [==============================] - 0s 14ms/step - loss: 0.3058 - accuracy: 0.8704 - val_loss: 0.3242 - val_accuracy: 0.8545\n",
            "Epoch 28/100000\n",
            "4/4 [==============================] - 0s 13ms/step - loss: 0.3043 - accuracy: 0.8718 - val_loss: 0.3233 - val_accuracy: 0.8545\n",
            "Epoch 29/100000\n",
            "4/4 [==============================] - 0s 13ms/step - loss: 0.3058 - accuracy: 0.8736 - val_loss: 0.3234 - val_accuracy: 0.8507\n",
            "Epoch 30/100000\n",
            "4/4 [==============================] - 0s 13ms/step - loss: 0.3030 - accuracy: 0.8715 - val_loss: 0.3234 - val_accuracy: 0.8532\n",
            "Epoch 31/100000\n",
            "4/4 [==============================] - 0s 14ms/step - loss: 0.3003 - accuracy: 0.8733 - val_loss: 0.3228 - val_accuracy: 0.8520\n"
          ]
        }
      ],
      "source": [
        "es = EarlyStopping(monitor='val_accuracy',\n",
        "                                   mode='max', # don't minimize the accuracy!\n",
        "                                   patience=20,\n",
        "                                   restore_best_weights=True)\n",
        "\n",
        "# now we just update our model fit call\n",
        "history_2 = model_2.fit(X2_train,\n",
        "                    y_train,\n",
        "                    callbacks=[es],\n",
        "                    epochs=100000, # you can set this to a big number!\n",
        "                    batch_size=256*2*2*2,\n",
        "                    validation_data=(X2_test,y_test),\n",
        "                    shuffle=True,\n",
        "                    verbose=1)"
      ]
    },
    {
      "cell_type": "markdown",
      "metadata": {
        "id": "UyObpvg86Vbk"
      },
      "source": [
        "### Evaluating the Model\n",
        "Evaluate the model using learning curves, error metrics and confusion matrices for each partition (like we do in class). You should largely be able to copy and paste this from class notebooks. Add a few bullet points about what you see (did your model learn nice and gently?  If you don't have text cells here, you will lose points.\n"
      ]
    },
    {
      "cell_type": "code",
      "execution_count": 51,
      "metadata": {
        "colab": {
          "base_uri": "https://localhost:8080/",
          "height": 927
        },
        "id": "POEfsaOb6Vbk",
        "outputId": "6c691335-6f7a-42f3-ce35-cf06dc8f66cf"
      },
      "outputs": [
        {
          "data": {
            "image/png": "[encoded data removed]",
            "text/plain": [
              "<Figure size 432x288 with 1 Axes>"
            ]
          },
          "metadata": {
            "needs_background": "light"
          },
          "output_type": "display_data"
        },
        {
          "data": {
            "image/png": "[encoded data removed]",
            "text/plain": [
              "<Figure size 432x288 with 1 Axes>"
            ]
          },
          "metadata": {
            "needs_background": "light"
          },
          "output_type": "display_data"
        }
      ],
      "source": [
        "# learning curve\n",
        "\n",
        "# accuracy\n",
        "acc_2 = history_2.history['accuracy']\n",
        "val_acc_2 = history_2.history['val_accuracy']\n",
        "\n",
        "\n",
        "epochs = range(1, len(acc_2) + 1)\n",
        "\n",
        "# \"bo\" is for \"blue dot\"\n",
        "plt.plot(epochs, acc_2, 'bo', label='Training accuracy')\n",
        "# b is for \"solid blue line\"\n",
        "plt.plot(epochs, val_acc_2, 'b', label='Validation accuracy')\n",
        "plt.title('Training and validation accuracy')\n",
        "plt.xlabel('Epochs')\n",
        "plt.ylabel('Accuracy')\n",
        "plt.legend()\n",
        "\n",
        "plt.show()\n",
        "\n",
        "#loss\n",
        "loss_2 = history_2.history['loss']\n",
        "val_loss_2 = history_2.history['val_loss']\n",
        "\n",
        "epochs = range(1, len(acc_2) + 1)\n",
        "\n",
        "# \"bo\" is for \"blue dot\"\n",
        "plt.plot(epochs, loss_2, 'bo', label='Training loss')\n",
        "# b is for \"solid blue line\"\n",
        "plt.plot(epochs, val_loss_2, 'b', label='Validation loss')\n",
        "plt.title('Training and validation loss')\n",
        "plt.xlabel('Epochs')\n",
        "plt.ylabel('Loss')\n",
        "plt.legend()\n",
        "\n",
        "plt.show()"
      ]
    },
    {
      "cell_type": "markdown",
      "metadata": {
        "id": "251IL5O76Vbl"
      },
      "source": [
        "\n",
        "### Baseline Model and Evaluation on Test Data\n",
        "Calculate what a baseline prediction would be for the train and test partitions (a mean only model). Did your model do better than the baseline predictions? If so, you have a useful model!"
      ]
    },
    {
      "cell_type": "code",
      "execution_count": 52,
      "metadata": {
        "colab": {
          "base_uri": "https://localhost:8080/"
        },
        "id": "aC_O8jka6Vbl",
        "outputId": "86d28c3e-cc3e-469b-b63d-8d96107d687e"
      },
      "outputs": [
        {
          "name": "stdout",
          "output_type": "stream",
          "text": [
            "Baseline prediction for train:/n 0.5462591619416401\n",
            "Baseline prediction for test:/n 0.5462591619416401\n"
          ]
        }
      ],
      "source": [
        "#Base line prediction for train\n",
        "y_train=pd.DataFrame(y_train)\n",
        "count_train=y_train.value_counts()\n",
        "\n",
        "baseline_pred_train=count_train[0]/(count_train[0]+count_train[1])\n",
        "print('Baseline prediction for train:/n', baseline_pred_train)\n",
        "\n",
        "#Base line prediction for test\n",
        "y_test=pd.DataFrame(y_test)\n",
        "count_test=y_test.value_counts()\n",
        "\n",
        "baseline_pred_test=count_train[0]/(count_train[0]+count_train[1])\n",
        "print('Baseline prediction for test:/n', baseline_pred_test)"
      ]
    },
    {
      "cell_type": "code",
      "execution_count": 53,
      "metadata": {
        "colab": {
          "base_uri": "https://localhost:8080/"
        },
        "id": "T0YqzaPP6Vbl",
        "outputId": "a6ab5b3c-6b4b-4bbf-db3d-c1282daf0d07"
      },
      "outputs": [
        {
          "name": "stdout",
          "output_type": "stream",
          "text": [
            "226/226 [==============================] - 0s 732us/step\n"
          ]
        },
        {
          "data": {
            "text/plain": [
              "array([[3571,  379],\n",
              "       [ 607, 2674]], dtype=int64)"
            ]
          },
          "execution_count": 53,
          "metadata": {},
          "output_type": "execute_result"
        }
      ],
      "source": [
        "## seeing how the model did! on train\n",
        "preds2_train = np.round(model_2.predict(X2_train),0)\n",
        "\n",
        "matrix = confusion_matrix(y_train,preds2_train)\n",
        "matrix"
      ]
    },
    {
      "cell_type": "code",
      "execution_count": 54,
      "metadata": {
        "colab": {
          "base_uri": "https://localhost:8080/"
        },
        "id": "kIxh7KQM6Vbl",
        "outputId": "8438f202-fdbc-4ce0-ace3-80b3e7768089"
      },
      "outputs": [
        {
          "name": "stdout",
          "output_type": "stream",
          "text": [
            "26/26 [==============================] - 0s 758us/step\n"
          ]
        },
        {
          "data": {
            "text/plain": [
              "array([[401,  48],\n",
              "       [ 63, 292]], dtype=int64)"
            ]
          },
          "execution_count": 54,
          "metadata": {},
          "output_type": "execute_result"
        }
      ],
      "source": [
        "## seeing how the model did! on test\n",
        "preds2_test = np.round(model_2.predict(X2_test),0)\n",
        "\n",
        "matrix = confusion_matrix(y_test,preds2_test)\n",
        "matrix"
      ]
    },
    {
      "cell_type": "code",
      "execution_count": 55,
      "metadata": {
        "colab": {
          "base_uri": "https://localhost:8080/"
        },
        "id": "YxeP1lOY6Vbl",
        "outputId": "3207ac9f-fb9a-4d1f-dac0-c3003afbba21"
      },
      "outputs": [
        {
          "name": "stdout",
          "output_type": "stream",
          "text": [
            "Classification Report on Train:\n",
            "               precision    recall  f1-score   support\n",
            "\n",
            "           0       0.85      0.90      0.88      3950\n",
            "           1       0.88      0.81      0.84      3281\n",
            "\n",
            "    accuracy                           0.86      7231\n",
            "   macro avg       0.87      0.86      0.86      7231\n",
            "weighted avg       0.86      0.86      0.86      7231\n",
            "\n",
            "Classification Report on Test:\n",
            "               precision    recall  f1-score   support\n",
            "\n",
            "           0       0.86      0.89      0.88       449\n",
            "           1       0.86      0.82      0.84       355\n",
            "\n",
            "    accuracy                           0.86       804\n",
            "   macro avg       0.86      0.86      0.86       804\n",
            "weighted avg       0.86      0.86      0.86       804\n",
            "\n"
          ]
        }
      ],
      "source": [
        "#Printing the classification report on the train  data\n",
        "print('Classification Report on Train:\\n',classification_report(y_train , preds2_train))\n",
        "\n",
        "#Printing the classification report on the test data\n",
        "print('Classification Report on Test:\\n',classification_report(y_test, preds2_test))"
      ]
    }
  ],
  "metadata": {
    "colab": {
      "provenance": [],
      "toc_visible": true
    },
    "kernelspec": {
      "display_name": "Python 3",
      "name": "python3"
    },
    "language_info": {
      "codemirror_mode": {
        "name": "ipython",
        "version": 3
      },
      "file_extension": ".py",
      "mimetype": "text/x-python",
      "name": "python",
      "nbconvert_exporter": "python",
      "pygments_lexer": "ipython3",
      "version": "3.9.12"
    }
  },
  "nbformat": 4,
  "nbformat_minor": 0
}
